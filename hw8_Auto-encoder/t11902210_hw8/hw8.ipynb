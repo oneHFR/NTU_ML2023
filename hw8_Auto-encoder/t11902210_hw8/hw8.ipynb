{
  "cells": [
    {
      "cell_type": "markdown",
      "metadata": {
        "id": "YiVfKn-6tXz8"
      },
      "source": [
        "# **Homework 8 - Anomaly Detection**\n",
        "\n",
        "If there are any questions, please contact mlta-2023-spring@googlegroups.com\n",
        "\n",
        "Slide:    [Link](https://docs.google.com/presentation/d/18LkR8qulwSbi3SVoLl1XNNGjQQ_qczs_35lrJWOmHCk/edit?usp=sharing)　Kaggle: [Link](https://www.kaggle.com/t/c76950cc460140eba30a576ca7668d28)"
      ]
    },
    {
      "cell_type": "markdown",
      "metadata": {
        "id": "GXNlLsUK9di5"
      },
      "source": [
        "#colab code"
      ]
    },
    {
      "cell_type": "markdown",
      "metadata": {
        "id": "0kcVcBjHXqB8"
      },
      "source": [
        "# 結果說明\n",
        "\n",
        "由於我是參攷著網路上的資源進行輔助網絡aux = Auxiliary（）.cuda（）的編寫，囙此許多操作是與resnet模型並行操作，包括計算損失率和生成最後結果等，囙此最後會生成兩個文件prediction_a.csv和prediction.csv。 我在所有輔助網絡模型的相關檔和程式都加了_a的尾碼。 但是，我最後提交的是prediction_a.csv文件作為最終結果，希望助教老師在驗證程式中也要使用prediction_a.csv文件進行驗證。\n",
        "\n",
        "# 簡單來說，最後生成兩個結果，要提交prediction_a.csv\n",
        "\n",
        "\n",
        "\n",
        "# Result Description\n",
        "\n",
        "As I am referring to the resources on the network to write the auxiliary network aux=Auxiliary(). cuda(), many of these operations are parallel to the resnet model, including calculating loss rates and generating final results. As a result, two files (prediction_a.csv) and (prediction.csv) will be generated. I have added files and programs related to all auxiliary network models_ The tail code of a. However, the final result I submitted was the (prediction_a.csv) file, and I hope the teaching assistant will also use the (prediction_ a.csv) file for verification in the verification program.\n",
        "\n",
        "# Simply put, to generate two final results, submit a (prediction_ a.csv) file"
      ]
    },
    {
      "cell_type": "markdown",
      "metadata": {
        "id": "AqCFBLoYJy4u"
      },
      "source": [
        "# # Reference link （all）\n",
        "For specific location references, see the markdown and comments in the code below.\n",
        "\n",
        "https://blog.csdn.net/qq_43613342/article/details/127018677?ops_request_misc=%257B%2522request%255Fid%2522%253A%2522168321094516800182172074%2522%252C%2522scm%2522%253A%252220140713.130102334..%2522%257D&request_id=168321094516800182172074&biz_id=0&utm_medium=distribute.pc_search_result.none-task-blog-2~all~sobaiduend~default-2-127018677-null-null.142^v86^insert_down1,239^v2^insert_chatgpt&utm_term=%E6%9D%8E%E5%AE%8F%E6%AF%85hw8&spm=1018.2226.3001.4187\n",
        "\n",
        "\n",
        "https://blog.csdn.net/weixin_46846685/article/details/127699597\n",
        "\n",
        "http://www.taodudu.cc/news/show-4804642.html\n",
        "\n",
        "https://blog.csdn.net/iwill323/article/details/127919157\n",
        "\n",
        "https://blog.csdn.net/weixin_42369818/article/details/125292835?ops_request_misc=%257B%2522request%255Fid%2522%253A%2522168321094516800182172074%2522%252C%2522scm%2522%253A%252220140713.130102334..%2522%257D&request_id=168321094516800182172074&biz_id=0&utm_medium=distribute.pc_search_result.none-task-blog-2~all~sobaiduend~default-1-125292835-null-null.142^v86^insert_down1,239^v2^insert_chatgpt&utm_term=%E6%9D%8E%E5%AE%8F%E6%AF%85hw8&spm=1018.2226.3001.4187\n"
      ]
    },
    {
      "cell_type": "markdown",
      "metadata": {
        "id": "bDk9r2YOcDc9"
      },
      "source": [
        "# Set up the environment\n"
      ]
    },
    {
      "cell_type": "markdown",
      "metadata": {
        "id": "Oi12tJMYWi0Q"
      },
      "source": [
        "## Package installation"
      ]
    },
    {
      "cell_type": "code",
      "execution_count": 1,
      "metadata": {
        "id": "7LexxyPWWjJB",
        "colab": {
          "base_uri": "https://localhost:8080/"
        },
        "outputId": "d4c4f262-3a9f-4bb8-a6a6-56a6d0aaa8e1"
      },
      "outputs": [
        {
          "output_type": "stream",
          "name": "stdout",
          "text": [
            "  Preparing metadata (setup.py) ... \u001b[?25l\u001b[?25hdone\n",
            "\u001b[2K     \u001b[90m━━━━━━━━━━━━━━━━━━━━━━━━━━━━━━━━━━━━━━━\u001b[0m \u001b[32m121.2/121.2 kB\u001b[0m \u001b[31m5.4 MB/s\u001b[0m eta \u001b[36m0:00:00\u001b[0m\n",
            "\u001b[2K     \u001b[90m━━━━━━━━━━━━━━━━━━━━━━━━━━━━━━━━━━━━━━━━\u001b[0m \u001b[32m84.9/84.9 kB\u001b[0m \u001b[31m5.5 MB/s\u001b[0m eta \u001b[36m0:00:00\u001b[0m\n",
            "\u001b[2K     \u001b[90m━━━━━━━━━━━━━━━━━━━━━━━━━━━━━━━━━━━━━━━━\u001b[0m \u001b[32m1.6/1.6 MB\u001b[0m \u001b[31m15.7 MB/s\u001b[0m eta \u001b[36m0:00:00\u001b[0m\n",
            "\u001b[?25h  Building wheel for qqdm (setup.py) ... \u001b[?25l\u001b[?25hdone\n"
          ]
        }
      ],
      "source": [
        "# Training progress bar\n",
        "!pip install -q qqdm"
      ]
    },
    {
      "cell_type": "markdown",
      "metadata": {
        "id": "DCgNXSsEWuY7"
      },
      "source": [
        "## Downloading data"
      ]
    },
    {
      "cell_type": "code",
      "execution_count": 2,
      "metadata": {
        "colab": {
          "base_uri": "https://localhost:8080/"
        },
        "id": "e-yCMrIl4L60",
        "outputId": "2c892e98-941a-4350-cc8a-1dd3cbd60c56"
      },
      "outputs": [
        {
          "output_type": "stream",
          "name": "stdout",
          "text": [
            "Cloning into 'ml2023spring-hw8'...\n",
            "remote: Enumerating objects: 11, done.\u001b[K\n",
            "remote: Counting objects: 100% (11/11), done.\u001b[K\n",
            "remote: Compressing objects: 100% (10/10), done.\u001b[K\n",
            "remote: Total 11 (delta 2), reused 8 (delta 0), pack-reused 0\u001b[K\n",
            "Unpacking objects: 100% (11/11), 1.69 KiB | 864.00 KiB/s, done.\n",
            "Filtering content: 100% (2/2), 1.36 GiB | 50.38 MiB/s, done.\n"
          ]
        }
      ],
      "source": [
        "!git clone https://github.com/chiyuanhsiao/ml2023spring-hw8"
      ]
    },
    {
      "cell_type": "markdown",
      "metadata": {
        "id": "HNe7QU7n7cqh"
      },
      "source": [
        "# Import packages"
      ]
    },
    {
      "cell_type": "code",
      "execution_count": 3,
      "metadata": {
        "id": "Jk3qFK_a7k8P"
      },
      "outputs": [],
      "source": [
        "import random\n",
        "import numpy as np\n",
        "import torch\n",
        "from torch import nn\n",
        "from torch.utils.data import DataLoader, RandomSampler, SequentialSampler, TensorDataset\n",
        "import torchvision.transforms as transforms\n",
        "import torch.nn.functional as F\n",
        "from torch.autograd import Variable\n",
        "import torchvision.models as models\n",
        "from torch.optim import Adam, AdamW\n",
        "from qqdm import qqdm, format_str\n",
        "import pandas as pd"
      ]
    },
    {
      "cell_type": "markdown",
      "metadata": {
        "id": "6X6fkGPnYyaF"
      },
      "source": [
        "# Loading data"
      ]
    },
    {
      "cell_type": "code",
      "execution_count": 4,
      "metadata": {
        "colab": {
          "base_uri": "https://localhost:8080/"
        },
        "id": "k7Wd4yiUYzAm",
        "outputId": "bc30d10e-9a30-49c2-f545-9d1d4a9cb34f"
      },
      "outputs": [
        {
          "output_type": "stream",
          "name": "stdout",
          "text": [
            "(100000, 64, 64, 3)\n",
            "(19636, 64, 64, 3)\n"
          ]
        }
      ],
      "source": [
        "\n",
        "train = np.load('ml2023spring-hw8/trainingset.npy', allow_pickle=True)\n",
        "test = np.load('ml2023spring-hw8/testingset.npy', allow_pickle=True)\n",
        "\n",
        "print(train.shape)\n",
        "print(test.shape)"
      ]
    },
    {
      "cell_type": "markdown",
      "metadata": {
        "id": "_flpmj6OYIa6"
      },
      "source": [
        "## Random seed\n",
        "Set the random seed to a certain value for reproducibility."
      ]
    },
    {
      "cell_type": "code",
      "execution_count": 5,
      "metadata": {
        "id": "Gb-dgXQYYI2Q"
      },
      "outputs": [],
      "source": [
        "def same_seeds(seed):\n",
        "    random.seed(seed)\n",
        "    np.random.seed(seed)\n",
        "    torch.manual_seed(seed)\n",
        "    if torch.cuda.is_available():\n",
        "        torch.cuda.manual_seed(seed)\n",
        "        torch.cuda.manual_seed_all(seed)\n",
        "    torch.backends.cudnn.benchmark = False\n",
        "    torch.backends.cudnn.deterministic = True\n",
        "\n",
        "same_seeds(730)"
      ]
    },
    {
      "cell_type": "markdown",
      "metadata": {
        "id": "zR9zC0_Df-CR"
      },
      "source": [
        "# Autoencoder"
      ]
    },
    {
      "cell_type": "markdown",
      "metadata": {
        "id": "whpNjz1YNCgH"
      },
      "source": []
    },
    {
      "cell_type": "markdown",
      "metadata": {
        "id": "1EbfwRREhA7c"
      },
      "source": [
        "# Models & loss"
      ]
    },
    {
      "cell_type": "markdown",
      "metadata": {
        "id": "fD_NiO5GM7Pm"
      },
      "source": [
        "# reference link\n",
        "# Change the network structure (increase the number of layers)\n",
        "https://blog.csdn.net/qq_43613342/article/details/127018677?ops_request_misc=%257B%2522request%255Fid%2522%253A%2522168321094516800182172074%2522%252C%2522scm%2522%253A%252220140713.130102334..%2522%257D&request_id=168321094516800182172074&biz_id=0&utm_medium=distribute.pc_search_result.none-task-blog-2~all~sobaiduend~default-2-127018677-null-null.142^v86^insert_down1,239^v2^insert_chatgpt&utm_term=%E6%9D%8E%E5%AE%8F%E6%AF%85hw8&spm=1018.2226.3001.4187"
      ]
    },
    {
      "cell_type": "code",
      "execution_count": 6,
      "metadata": {
        "id": "Wi8ds1fugCkR"
      },
      "outputs": [],
      "source": [
        "class fcn_autoencoder(nn.Module):\n",
        "    def __init__(self):\n",
        "        super(fcn_autoencoder, self).__init__()\n",
        "        self.encoder = nn.Sequential(\n",
        "            nn.Linear(64 * 64 * 3, 1024),\n",
        "            nn.ReLU(),\n",
        "            nn.Linear(1024, 256),\n",
        "            nn.ReLU(), \n",
        "            nn.Linear(256, 64), \n",
        "            nn.ReLU(), \n",
        "            nn.Linear(64, 10)\n",
        "        )    # Hint: dimension of latent space can be adjusted\n",
        "        # reference link\n",
        "        # https://blog.csdn.net/qq_43613342/article/details/127018677?ops_request_misc=%257B%2522request%255Fid%2522%253A%2522168321094516800182172074%2522%252C%2522scm%2522%253A%252220140713.130102334..%2522%257D&request_id=168321094516800182172074&biz_id=0&utm_medium=distribute.pc_search_result.none-task-blog-2~all~sobaiduend~default-2-127018677-null-null.142^v86^insert_down1,239^v2^insert_chatgpt&utm_term=%E6%9D%8E%E5%AE%8F%E6%AF%85hw8&spm=1018.2226.3001.4187\n",
        "        # increase the number of layers\n",
        "        self.decoder = nn.Sequential(\n",
        "            nn.Linear(10, 64),\n",
        "            nn.ReLU(), \n",
        "            nn.Linear(64, 256),\n",
        "            nn.ReLU(),\n",
        "            nn.Linear(256, 1024),\n",
        "            nn.ReLU(), \n",
        "            nn.Linear(1024, 64 * 64 * 3), \n",
        "            nn.Tanh()\n",
        "            # reference link\n",
        "            # https://blog.csdn.net/qq_43613342/article/details/127018677?ops_request_misc=%257B%2522request%255Fid%2522%253A%2522168321094516800182172074%2522%252C%2522scm%2522%253A%252220140713.130102334..%2522%257D&request_id=168321094516800182172074&biz_id=0&utm_medium=distribute.pc_search_result.none-task-blog-2~all~sobaiduend~default-2-127018677-null-null.142^v86^insert_down1,239^v2^insert_chatgpt&utm_term=%E6%9D%8E%E5%AE%8F%E6%AF%85hw8&spm=1018.2226.3001.4187\n",
        "            # increase the number of layers\n",
        "        )\n",
        "\n",
        "    def forward(self, x):\n",
        "        x = self.encoder(x)\n",
        "        x = self.decoder(x)\n",
        "        return x\n",
        "\n",
        "\n",
        "class conv_autoencoder(nn.Module):\n",
        "    def __init__(self):\n",
        "        super(conv_autoencoder, self).__init__()\n",
        "        self.encoder = nn.Sequential(\n",
        "            nn.Conv2d(3, 24, 4, stride=2, padding=1),\n",
        "            nn.BatchNorm2d(24),\n",
        "            nn.ReLU(),\n",
        "            nn.Conv2d(24, 24, 4, stride=2, padding=1),\n",
        "            nn.BatchNorm2d(24),\n",
        "            nn.ReLU(),\n",
        "            nn.Conv2d(24, 48, 4, stride=2, padding=1),\n",
        "            nn.BatchNorm2d(48),\n",
        "            nn.ReLU(),\n",
        "            nn.Conv2d(48, 96, 4, stride=2, padding=1),\n",
        "            nn.BatchNorm2d(96),\n",
        "            nn.ReLU(),\n",
        "            nn.Flatten(),\n",
        "            nn.Dropout(0.2),\n",
        "            nn.Linear(96*4*4, 128),\n",
        "            nn.BatchNorm1d(128),\n",
        "            nn.Dropout(0.2),\n",
        "            nn.Linear(128, 10),\n",
        "            nn.BatchNorm1d(10),\n",
        "            nn.ReLU(),\n",
        "        )   # Hint:  dimension of latent space can be adjusted\n",
        "        # reference link\n",
        "        # https://blog.csdn.net/qq_43613342/article/details/127018677?ops_request_misc=%257B%2522request%255Fid%2522%253A%2522168321094516800182172074%2522%252C%2522scm%2522%253A%252220140713.130102334..%2522%257D&request_id=168321094516800182172074&biz_id=0&utm_medium=distribute.pc_search_result.none-task-blog-2~all~sobaiduend~default-2-127018677-null-null.142^v86^insert_down1,239^v2^insert_chatgpt&utm_term=%E6%9D%8E%E5%AE%8F%E6%AF%85hw8&spm=1018.2226.3001.4187\n",
        "        # increase the number of layers\n",
        "\n",
        "        self.decoder = nn.Sequential(\n",
        "\t\t\t      nn.Linear(10, 128),\n",
        "            nn.BatchNorm1d(128),\n",
        "            nn.ReLU(),\n",
        "            nn.Linear(128, 96*4*4),\n",
        "            nn.BatchNorm1d(96*4*4),\n",
        "            nn.ReLU(),\n",
        "            nn.Unflatten(1, (96, 4, 4)),\n",
        "            nn.ConvTranspose2d(96, 48, 4, stride=2, padding=1),\n",
        "            nn.BatchNorm2d(48),\n",
        "            nn.ReLU(),\n",
        "            nn.ConvTranspose2d(48, 24, 4, stride=2, padding=1),\n",
        "            nn.BatchNorm2d(24),\n",
        "            nn.ReLU(),\n",
        "            nn.ConvTranspose2d(24, 12, 4, stride=2, padding=1),\n",
        "            nn.BatchNorm2d(12),\n",
        "            nn.ReLU(),\n",
        "            nn.ConvTranspose2d(12, 3, 4, stride=2, padding=1),\n",
        "            nn.Tanh(),\n",
        "        )\n",
        "        # reference link\n",
        "        # https://blog.csdn.net/qq_43613342/article/details/127018677?ops_request_misc=%257B%2522request%255Fid%2522%253A%2522168321094516800182172074%2522%252C%2522scm%2522%253A%252220140713.130102334..%2522%257D&request_id=168321094516800182172074&biz_id=0&utm_medium=distribute.pc_search_result.none-task-blog-2~all~sobaiduend~default-2-127018677-null-null.142^v86^insert_down1,239^v2^insert_chatgpt&utm_term=%E6%9D%8E%E5%AE%8F%E6%AF%85hw8&spm=1018.2226.3001.4187\n",
        "        # increase the number of layers\n",
        "\n",
        "\n",
        "    def forward(self, x):\n",
        "        x = self.encoder(x)\n",
        "        x = self.decoder(x)\n",
        "        return x\n",
        "\n",
        "\n",
        "class VAE(nn.Module):\n",
        "    def __init__(self):\n",
        "        super(VAE, self).__init__()\n",
        "        self.encoder = nn.Sequential(\n",
        "            nn.Conv2d(3, 32, 4, stride=2, padding=1), \n",
        "            nn.BatchNorm2d(32),\n",
        "            nn.ReLU(),\n",
        "            nn.Conv2d(32, 64, 4, stride=2, padding=1),\n",
        "            nn.BatchNorm2d(64),\n",
        "            nn.ReLU(),\n",
        "            nn.Conv2d(64, 64, 4, stride=2, padding=1),\n",
        "            nn.BatchNorm2d(64),\n",
        "            nn.ReLU(),\n",
        "            nn.Conv2d(64, 64, 4, stride=2, padding=1),\n",
        "            nn.BatchNorm2d(64),\n",
        "            nn.ReLU(),\n",
        "            nn.Flatten()\n",
        "            # reference link\n",
        "            # https://blog.csdn.net/qq_43613342/article/details/127018677?ops_request_misc=%257B%2522request%255Fid%2522%253A%2522168321094516800182172074%2522%252C%2522scm%2522%253A%252220140713.130102334..%2522%257D&request_id=168321094516800182172074&biz_id=0&utm_medium=distribute.pc_search_result.none-task-blog-2~all~sobaiduend~default-2-127018677-null-null.142^v86^insert_down1,239^v2^insert_chatgpt&utm_term=%E6%9D%8E%E5%AE%8F%E6%AF%85hw8&spm=1018.2226.3001.4187\n",
        "            # increase the number of layers\n",
        "\n",
        "        )\n",
        "        self.enc_out_1 = nn.Sequential(\n",
        "            nn.Dropout(0.2),\n",
        "            nn.Linear(64*4*4, 128),\n",
        "            #nn.BatchNorm1d(128),\n",
        "            nn.ReLU(),\n",
        "            \n",
        "            nn.Dropout(0.2),\n",
        "            nn.Linear(128, 10),\n",
        "            #nn.BatchNorm1d(10),\n",
        "            nn.ReLU()\n",
        "        )\n",
        "        # reference link\n",
        "        # https://blog.csdn.net/qq_43613342/article/details/127018677?ops_request_misc=%257B%2522request%255Fid%2522%253A%2522168321094516800182172074%2522%252C%2522scm%2522%253A%252220140713.130102334..%2522%257D&request_id=168321094516800182172074&biz_id=0&utm_medium=distribute.pc_search_result.none-task-blog-2~all~sobaiduend~default-2-127018677-null-null.142^v86^insert_down1,239^v2^insert_chatgpt&utm_term=%E6%9D%8E%E5%AE%8F%E6%AF%85hw8&spm=1018.2226.3001.4187\n",
        "        # increase the number of layers\n",
        "\n",
        "        self.enc_out_2 = nn.Sequential(\n",
        "            #nn.Conv2d(24, 48, 4, stride=2, padding=1),\n",
        "            #nn.ReLU(),\n",
        "            nn.Dropout(0.2),\n",
        "            nn.Linear(64*4*4, 128),\n",
        "            #nn.BatchNorm1d(128),\n",
        "            nn.ReLU(),\n",
        "            \n",
        "            nn.Dropout(0.2),\n",
        "            nn.Linear(128, 10),\n",
        "            #nn.BatchNorm1d(10),\n",
        "            nn.ReLU()\n",
        "        )\n",
        "        # Hint: can add more layers to encoder and decoder\n",
        "        # reference link\n",
        "        # https://blog.csdn.net/qq_43613342/article/details/127018677?ops_request_misc=%257B%2522request%255Fid%2522%253A%2522168321094516800182172074%2522%252C%2522scm%2522%253A%252220140713.130102334..%2522%257D&request_id=168321094516800182172074&biz_id=0&utm_medium=distribute.pc_search_result.none-task-blog-2~all~sobaiduend~default-2-127018677-null-null.142^v86^insert_down1,239^v2^insert_chatgpt&utm_term=%E6%9D%8E%E5%AE%8F%E6%AF%85hw8&spm=1018.2226.3001.4187\n",
        "        # increase the number of layers\n",
        "\n",
        "        self.decoder = nn.Sequential(\n",
        "\t\t\t      nn.Linear(10, 128),\n",
        "            nn.BatchNorm1d(128),\n",
        "            nn.ReLU(),\n",
        "            nn.Linear(128, 32*4*4),\n",
        "            nn.BatchNorm1d(32*4*4),\n",
        "            nn.ReLU(),\n",
        "            nn.Unflatten(1, (32, 4, 4)),\n",
        "            nn.ConvTranspose2d(32, 64, 4, stride=2, padding=1),\n",
        "            nn.BatchNorm2d(64),\n",
        "            nn.ReLU(),\n",
        "            nn.ConvTranspose2d(64, 64, 4, stride=2, padding=1),\n",
        "            nn.BatchNorm2d(64),\n",
        "            nn.ReLU(),\n",
        "            nn.ConvTranspose2d(64, 32, 4, stride=2, padding=1), \n",
        "            nn.BatchNorm2d(32),\n",
        "            nn.ReLU(),\n",
        "            nn.ConvTranspose2d(32, 3, 4, stride=2, padding=1),\n",
        "            nn.Tanh(),\n",
        "        )\n",
        "        # reference link\n",
        "        # https://blog.csdn.net/qq_43613342/article/details/127018677?ops_request_misc=%257B%2522request%255Fid%2522%253A%2522168321094516800182172074%2522%252C%2522scm%2522%253A%252220140713.130102334..%2522%257D&request_id=168321094516800182172074&biz_id=0&utm_medium=distribute.pc_search_result.none-task-blog-2~all~sobaiduend~default-2-127018677-null-null.142^v86^insert_down1,239^v2^insert_chatgpt&utm_term=%E6%9D%8E%E5%AE%8F%E6%AF%85hw8&spm=1018.2226.3001.4187\n",
        "        # increase the number of layers\n",
        "        \n",
        "\n",
        "    def encode(self, x):\n",
        "        h1 = self.encoder(x)\n",
        "        return self.enc_out_1(h1), self.enc_out_2(h1)\n",
        "\n",
        "    def reparametrize(self, mu, logvar):\n",
        "        std = logvar.mul(0.5).exp_()\n",
        "        if torch.cuda.is_available():\n",
        "            eps = torch.cuda.FloatTensor(std.size()).normal_()\n",
        "        else:\n",
        "            eps = torch.FloatTensor(std.size()).normal_()\n",
        "        eps = Variable(eps)\n",
        "        return eps.mul(std).add_(mu)\n",
        "\n",
        "    def decode(self, z):\n",
        "        return self.decoder(z)\n",
        "\n",
        "    def forward(self, x):\n",
        "        mu, logvar = self.encode(x)\n",
        "        z = self.reparametrize(mu, logvar)\n",
        "        return self.decode(z), mu, logvar\n",
        "\n",
        "\n",
        "def loss_vae(recon_x, x, mu, logvar, criterion):\n",
        "    \"\"\"\n",
        "    recon_x: generating images\n",
        "    x: origin images\n",
        "    mu: latent mean\n",
        "    logvar: latent log variance\n",
        "    \"\"\"\n",
        "    mse = criterion(recon_x, x)\n",
        "    KLD_element = mu.pow(2).add_(logvar.exp()).mul_(-1).add_(1).add_(logvar)\n",
        "    KLD = torch.sum(KLD_element).mul_(-0.5)\n",
        "    return mse + KLD"
      ]
    },
    {
      "cell_type": "markdown",
      "metadata": {
        "id": "RRoshdHWOz9b"
      },
      "source": [
        "# reference link\n",
        "# Decoder auxiliary network\n",
        "https://blog.csdn.net/weixin_46846685/article/details/127699597\n",
        "\n",
        "https://blog.csdn.net/weixin_42369818/article/details/125292835?ops_request_misc=%257B%2522request%255Fid%2522%253A%2522168321094516800182172074%2522%252C%2522scm%2522%253A%252220140713.130102334..%2522%257D&request_id=168321094516800182172074&biz_id=0&utm_medium=distribute.pc_search_result.none-task-blog-2~all~sobaiduend~default-1-125292835-null-null.142^v86^insert_down1,239^v2^insert_chatgpt&utm_term=%E6%9D%8E%E5%AE%8F%E6%AF%85hw8&spm=1018.2226.3001.4187"
      ]
    },
    {
      "cell_type": "code",
      "execution_count": 7,
      "metadata": {
        "id": "PXqYi2GO__Li"
      },
      "outputs": [],
      "source": [
        "class ensemble(nn.Module):\n",
        "    def __init__(self):\n",
        "        super().__init__()\n",
        "        # reference link\n",
        "        # Decoder auxiliary network\n",
        "        # https://blog.csdn.net/weixin_46846685/article/details/127699597\n",
        "        self.encoder_1 = nn.Sequential(\n",
        "            nn.Flatten(),\n",
        "            nn.Linear(64 * 64 * 3, 1024),\n",
        "            nn.BatchNorm1d(1024),\n",
        "            nn.ReLU(),\n",
        "            nn.Dropout(0.2),\n",
        "            nn.Linear(1024, 256),\n",
        "            nn.BatchNorm1d(256),\n",
        "            nn.ReLU(), \n",
        "            nn.Dropout(0.2),\n",
        "            nn.Linear(256, 64), \n",
        "            nn.BatchNorm1d(64),\n",
        "            nn.ReLU(), \n",
        "        )\n",
        "        # reference link\n",
        "        # Decoder auxiliary network\n",
        "        # https://blog.csdn.net/weixin_46846685/article/details/127699597\n",
        "        self.encoder_2 = nn.Sequential(\n",
        "            nn.Conv2d(3, 128, 4, stride=2, padding=1),\n",
        "            nn.BatchNorm2d(128),\n",
        "            nn.ReLU(),\n",
        "            nn.Conv2d(128, 256, 4, stride=2, padding=1),\n",
        "            nn.BatchNorm2d(256),\n",
        "            nn.ReLU(),\n",
        "            nn.Conv2d(256, 256, 4, stride=2, padding=1),\n",
        "            nn.BatchNorm2d(256),\n",
        "            nn.ReLU(),\n",
        "            nn.Conv2d(256, 128, 4, stride=2, padding=1),\n",
        "            nn.BatchNorm2d(128),\n",
        "            nn.ReLU(),\n",
        "            nn.Flatten(),\n",
        "            nn.Dropout(0.2),\n",
        "            nn.Linear(128*4*4, 128),\n",
        "            nn.BatchNorm1d(128),\n",
        "            nn.ReLU(),\n",
        "        )\n",
        "        # reference link\n",
        "        # Decoder auxiliary network\n",
        "        # https://blog.csdn.net/weixin_46846685/article/details/127699597\n",
        "        self.decoder = nn.Sequential(\n",
        "                nn.Linear(192, 128*4*4),\n",
        "                nn.BatchNorm1d(128*4*4),\n",
        "                nn.ReLU(),\n",
        "                nn.Unflatten(1, (128, 4, 4)),\n",
        "                nn.ConvTranspose2d(128, 256, 4, stride=2, padding=1),\n",
        "                nn.BatchNorm2d(256),\n",
        "                nn.ReLU(),\n",
        "                nn.ConvTranspose2d(256, 256, 4, stride=2, padding=1),\n",
        "                nn.BatchNorm2d(256),\n",
        "                nn.ReLU(),\n",
        "                nn.ConvTranspose2d(256, 128, 4, stride=2, padding=1),\n",
        "                nn.BatchNorm2d(128),\n",
        "                nn.ReLU(),\n",
        "                nn.ConvTranspose2d(128, 3, 4, stride=2, padding=1),\n",
        "                nn.Tanh(),\n",
        "        )\n",
        "        \n",
        "    def encoder(self, x):\n",
        "        x1 = self.encoder_1(x)\n",
        "        x2 = self.encoder_2(x)\n",
        "        return torch.cat((x1, x2), 1)\n",
        "        \n",
        "    def forward(self, x):\n",
        "        x = self.encoder(x)\n",
        "        x = self.decoder(x)\n",
        "        return x"
      ]
    },
    {
      "cell_type": "markdown",
      "metadata": {
        "id": "epjMGnKYMijj"
      },
      "source": [
        "# resnet network\n",
        "# reference link\n",
        "http://www.taodudu.cc/news/show-4804642.html\n",
        "\n",
        "\n",
        "\n",
        "# Residual network\n",
        "# reference link\n",
        "https://blog.csdn.net/iwill323/article/details/127919157"
      ]
    },
    {
      "cell_type": "code",
      "execution_count": 8,
      "metadata": {
        "id": "-urt_rCU_9xa"
      },
      "outputs": [],
      "source": [
        "class Residual_Block(nn.Module):\n",
        "  # Residual network\n",
        "  # reference link\n",
        "  # https://blog.csdn.net/iwill323/article/details/127919157\n",
        "    def __init__(self, ic, oc, stride=1):\n",
        "        super().__init__()\n",
        "        self.conv1 = nn.Sequential(\n",
        "            nn.Conv2d(ic, oc, kernel_size=3, stride=stride, padding=1),\n",
        "            nn.BatchNorm2d(oc),\n",
        "            nn.ReLU(inplace=True)\n",
        "        )\n",
        "        \n",
        "        self.conv2 = nn.Sequential(\n",
        "            nn.Conv2d(oc, oc, kernel_size=3, stride=1, padding=1),\n",
        "            nn.BatchNorm2d(oc),\n",
        "        )\n",
        "        \n",
        "        self.relu = nn.ReLU(inplace=True)\n",
        "    \n",
        "        self.downsample = None\n",
        "        if stride != 1 or (ic != oc):\n",
        "            self.downsample = nn.Sequential(\n",
        "                nn.Conv2d(ic, oc, kernel_size=1, stride=stride),\n",
        "                nn.BatchNorm2d(oc),\n",
        "            )\n",
        "        \n",
        "    def forward(self, x):\n",
        "        residual = x\n",
        "        out = self.conv1(x)\n",
        "        out = self.conv2(out)\n",
        "        \n",
        "        if self.downsample:\n",
        "            residual = self.downsample(x)\n",
        "            \n",
        "        out += residual\n",
        "        return self.relu(out)\n",
        "\n",
        "## reference link\n",
        "# http://www.taodudu.cc/news/show-4804642.html    \n",
        "class ResNet(nn.Module):\n",
        "    def __init__(self, block=Residual_Block, num_layers=[2, 1, 1, 1]):\n",
        "        super().__init__()\n",
        "        self.preconv = nn.Sequential(\n",
        "            nn.Conv2d(3, 32, kernel_size=3, stride=1, padding=1, bias=False),\n",
        "            nn.BatchNorm2d(32),\n",
        "            nn.ReLU(inplace=True),\n",
        "        )\n",
        "        self.layer0 = self.make_residual(block, 32, 64,  num_layers[0], stride=2)\n",
        "        self.layer1 = self.make_residual(block, 64, 128, num_layers[1], stride=2)\n",
        "        self.layer2 = self.make_residual(block, 128, 128, num_layers[2], stride=2)\n",
        "        self.layer3 = self.make_residual(block, 128, 64, num_layers[3], stride=2)\n",
        "        \n",
        "        self.fc = nn.Sequential(\n",
        "            nn.Flatten(),\n",
        "            nn.Dropout(0.2),\n",
        "            nn.Linear(64*4*4, 64),\n",
        "            nn.BatchNorm1d(64),\n",
        "            nn.ReLU(inplace=True),\n",
        "        )\n",
        "        \n",
        "        self.decoder = nn.Sequential(\n",
        "            nn.Linear(64, 64*4*4),\n",
        "            nn.BatchNorm1d(64*4*4),\n",
        "            nn.ReLU(),\n",
        "            nn.Unflatten(1, (64, 4, 4)),\n",
        "            nn.ConvTranspose2d(64, 128, 4, stride=2, padding=1),\n",
        "            nn.BatchNorm2d(128),\n",
        "            nn.ReLU(),\n",
        "            nn.ConvTranspose2d(128, 128, 4, stride=2, padding=1),\n",
        "            nn.BatchNorm2d(128),\n",
        "            nn.ReLU(),\n",
        "            nn.ConvTranspose2d(128, 128, 4, stride=2, padding=1),\n",
        "            nn.BatchNorm2d(128),\n",
        "            nn.ReLU(),\n",
        "            nn.ConvTranspose2d(128, 3, 4, stride=2, padding=1),\n",
        "            nn.Tanh(),\n",
        "        )\n",
        "    def make_residual(self, block, ic, oc, num_layer, stride=1):\n",
        "        layers = []\n",
        "        layers.append(block(ic, oc, stride))\n",
        "        for i in range(1, num_layer):\n",
        "            layers.append(block(oc, oc))\n",
        "        return nn.Sequential(*layers)\n",
        "    \n",
        "    def encoder(self, x):\n",
        "        x = self.preconv(x)\n",
        "        x = self.layer0(x) #64*64 --> 32*32\n",
        "        x = self.layer1(x) #32*32 --> 16*16\n",
        "        x = self.layer2(x) #16*16 --> 8*8\n",
        "        x = self.layer3(x) #8*8 --> 4*4\n",
        "        x = self.fc(x)\n",
        "        return x\n",
        "    \n",
        "    def forward(self, x):\n",
        "        x = self.encoder(x)\n",
        "        x = self.decoder(x)\n",
        "        return x\n",
        "    \n",
        "# reference link\n",
        "# Decoder auxiliary network\n",
        "# https://blog.csdn.net/weixin_42369818/article/details/125292835?ops_request_misc=%257B%2522request%255Fid%2522%253A%2522168321094516800182172074%2522%252C%2522scm%2522%253A%252220140713.130102334..%2522%257D&request_id=168321094516800182172074&biz_id=0&utm_medium=distribute.pc_search_result.none-task-blog-2~all~sobaiduend~default-1-125292835-null-null.142^v86^insert_down1,239^v2^insert_chatgpt&utm_term=%E6%9D%8E%E5%AE%8F%E6%AF%85hw8&spm=1018.2226.3001.4187    \n",
        "class Auxiliary(nn.Module):\n",
        "    def __init__(self):\n",
        "        super().__init__()\n",
        "        self.decoder = nn.Sequential(\n",
        "            nn.Linear(64, 64*4*4),\n",
        "            nn.BatchNorm1d(64*4*4),\n",
        "            nn.ReLU(),\n",
        "            nn.Unflatten(1, (64, 4, 4)),\n",
        "            nn.ConvTranspose2d(64, 128, 4, stride=2, padding=1),\n",
        "            nn.BatchNorm2d(128),\n",
        "            nn.ReLU(),\n",
        "            nn.ConvTranspose2d(128, 128, 4, stride=2, padding=1),\n",
        "            nn.BatchNorm2d(128),\n",
        "            nn.ReLU(),\n",
        "            nn.ConvTranspose2d(128, 128, 4, stride=2, padding=1),\n",
        "            nn.BatchNorm2d(128),\n",
        "            nn.ReLU(),\n",
        "            nn.ConvTranspose2d(128, 3, 4, stride=2, padding=1),\n",
        "            nn.Tanh(),\n",
        "        )\n",
        "        \n",
        "    def forward(self, x):\n",
        "        return self.decoder(x)"
      ]
    },
    {
      "cell_type": "markdown",
      "metadata": {
        "id": "vrJ9bScg9AgO"
      },
      "source": [
        "# Dataset module\n",
        "\n",
        "Module for obtaining and processing data. The transform function here normalizes image's pixels from [0, 255] to [-1.0, 1.0].\n"
      ]
    },
    {
      "cell_type": "code",
      "execution_count": 9,
      "metadata": {
        "id": "33fWhE-h9LPq"
      },
      "outputs": [],
      "source": [
        "class CustomTensorDataset(TensorDataset):\n",
        "    \"\"\"TensorDataset with support of transforms.\n",
        "    \"\"\"\n",
        "    def __init__(self, tensors):\n",
        "        self.tensors = tensors\n",
        "        if tensors.shape[-1] == 3:\n",
        "            self.tensors = tensors.permute(0, 3, 1, 2)\n",
        "        \n",
        "        self.transform = transforms.Compose([\n",
        "          transforms.Lambda(lambda x: x.to(torch.float32)),\n",
        "          transforms.Lambda(lambda x: 2. * x/255. - 1.),\n",
        "        ])\n",
        "        \n",
        "    def __getitem__(self, index):\n",
        "        x = self.tensors[index]\n",
        "        \n",
        "        if self.transform:\n",
        "            # mapping images to [-1.0, 1.0]\n",
        "            x = self.transform(x)\n",
        "\n",
        "        return x\n",
        "\n",
        "    def __len__(self):\n",
        "        return len(self.tensors)"
      ]
    },
    {
      "cell_type": "markdown",
      "metadata": {
        "id": "XKNUImqUhIeq"
      },
      "source": [
        "# Training"
      ]
    },
    {
      "cell_type": "markdown",
      "metadata": {
        "id": "7ebAJdjFmS08"
      },
      "source": [
        "## Configuration\n"
      ]
    },
    {
      "cell_type": "markdown",
      "metadata": {
        "id": "Gqs_k7FkNkUY"
      },
      "source": [
        "# resnet network\n",
        "# reference link\n",
        "http://www.taodudu.cc/news/show-4804642.html\n",
        "\n",
        "\n",
        "# Parameter settings\n",
        "# reference link\n",
        "https://blog.csdn.net/iwill323/article/details/127919157"
      ]
    },
    {
      "cell_type": "code",
      "execution_count": 10,
      "metadata": {
        "id": "in7yLfmqtZTk"
      },
      "outputs": [],
      "source": [
        "# Training hyperparameters\n",
        "num_epochs = 70\n",
        "batch_size = 128 # Hint: batch size may be lower\n",
        "learning_rate = 1e-3\n",
        "\n",
        "# Build training dataloader\n",
        "x = torch.from_numpy(train)\n",
        "train_dataset = CustomTensorDataset(x)\n",
        "\n",
        "train_sampler = RandomSampler(train_dataset)\n",
        "train_dataloader = DataLoader(train_dataset, sampler=train_sampler, batch_size=batch_size)\n",
        "\n",
        "# Model\n",
        "\n",
        "#model_type = 'vae'   # selecting a model type from {'cnn', 'fcn', 'vae', 'resnet'}\n",
        "model_type = 'resnet'\n",
        "model_classes = {'fcn': fcn_autoencoder(), 'cnn': conv_autoencoder(), 'vae': VAE(), 'ensemble':ensemble(), 'resnet':ResNet()}\n",
        "model = model_classes[model_type].cuda()\n",
        "\n",
        "# resnet network\n",
        "# reference link\n",
        "# http://www.taodudu.cc/news/show-4804642.html\n",
        "\n",
        "aux = Auxiliary().cuda()\n",
        "# reference link\n",
        "# Decoder auxiliary network\n",
        "# https://blog.csdn.net/weixin_46846685/article/details/127699597\n",
        "\n",
        "# Loss and optimizer\n",
        "criterion = nn.MSELoss()\n",
        "optimizer = torch.optim.Adam(model.parameters(), lr=learning_rate)\n",
        "optimizer_a = torch.optim.AdamW(aux.parameters(), lr=learning_rate)"
      ]
    },
    {
      "cell_type": "markdown",
      "metadata": {
        "id": "wyooN-JPm8sS"
      },
      "source": [
        "## Training loop"
      ]
    },
    {
      "cell_type": "markdown",
      "metadata": {
        "id": "sMInmnaXQFkw"
      },
      "source": [
        "# format writting\n",
        "# reference link\n",
        "https://blog.csdn.net/weixin_42369818/article/details/125292835?ops_request_misc=%257B%2522request%255Fid%2522%253A%2522168321094516800182172074%2522%252C%2522scm%2522%253A%252220140713.130102334..%2522%257D&request_id=168321094516800182172074&biz_id=0&utm_medium=distribute.pc_search_result.none-task-blog-2~all~sobaiduend~default-1-125292835-null-null.142^v86^insert_down1,239^v2^insert_chatgpt&utm_term=%E6%9D%8E%E5%AE%8F%E6%AF%85hw8&spm=1018.2226.3001.4187"
      ]
    },
    {
      "cell_type": "code",
      "execution_count": null,
      "metadata": {
        "colab": {
          "background_save": true,
          "base_uri": "https://localhost:8080/"
        },
        "id": "JoW1UrrxgI_U",
        "outputId": "70972d69-7e3b-489e-c431-64d72ecd454b"
      },
      "outputs": [
        {
          "output_type": "stream",
          "name": "stderr",
          "text": [
            " \u001b[1mIters\u001b[0m    \u001b[1mElapsed Time\u001b[0m      \u001b[1mSpeed\u001b[0m                                               \n",
            " \u001b[99m0/\u001b[93m70\u001b[0m\u001b[0m   \u001b[99m        -        \u001b[0m  \u001b[99m   -    \u001b[0m                                             \n",
            "\u001b[1mDescription\u001b[0m   0.0% |                                       |                    \u001b[K\u001b[F\u001b[K\u001b[F \u001b[1mIters\u001b[0m    \u001b[1mElapsed Time\u001b[0m      \u001b[1mSpeed\u001b[0m    \u001b[1mepoch\u001b[0m   \u001b[1mloss\u001b[0m   \u001b[1mloss_a\u001b[0m                      \n",
            " \u001b[99m1/\u001b[93m70\u001b[0m\u001b[0m   \u001b[99m00:02:26<\u001b[93m02:48:21\u001b[0m\u001b[0m  \u001b[99m0.01it/s\u001b[0m  \u001b[99m1/70\u001b[0m   \u001b[99m0.1212\u001b[0m  \u001b[99m0.1573\u001b[0m                      \n",
            "\u001b[1mDescription\u001b[0m   1.4% |                                       |                    \u001b[K\u001b[F\u001b[K\u001b[F \u001b[1mIters\u001b[0m    \u001b[1mElapsed Time\u001b[0m      \u001b[1mSpeed\u001b[0m    \u001b[1mepoch\u001b[0m   \u001b[1mloss\u001b[0m   \u001b[1mloss_a\u001b[0m                      \n",
            " \u001b[99m2/\u001b[93m70\u001b[0m\u001b[0m   \u001b[99m00:04:48<\u001b[93m02:43:41\u001b[0m\u001b[0m  \u001b[99m0.01it/s\u001b[0m  \u001b[99m2/70\u001b[0m   \u001b[99m0.0670\u001b[0m  \u001b[99m0.0658\u001b[0m                      \n",
            "\u001b[1mDescription\u001b[0m   2.9% |\u001b[97m█\u001b[0m                                      |                    \u001b[K\u001b[F\u001b[K\u001b[F \u001b[1mIters\u001b[0m    \u001b[1mElapsed Time\u001b[0m      \u001b[1mSpeed\u001b[0m    \u001b[1mepoch\u001b[0m   \u001b[1mloss\u001b[0m   \u001b[1mloss_a\u001b[0m                      \n",
            " \u001b[99m3/\u001b[93m70\u001b[0m\u001b[0m   \u001b[99m00:07:11<\u001b[93m02:40:33\u001b[0m\u001b[0m  \u001b[99m0.01it/s\u001b[0m  \u001b[99m3/70\u001b[0m   \u001b[99m0.0601\u001b[0m  \u001b[99m0.0584\u001b[0m                      \n",
            "\u001b[1mDescription\u001b[0m   4.3% |\u001b[97m█\u001b[0m                                      |                    \u001b[K\u001b[F\u001b[K\u001b[F \u001b[1mIters\u001b[0m    \u001b[1mElapsed Time\u001b[0m      \u001b[1mSpeed\u001b[0m    \u001b[1mepoch\u001b[0m   \u001b[1mloss\u001b[0m   \u001b[1mloss_a\u001b[0m                      \n",
            " \u001b[99m4/\u001b[93m70\u001b[0m\u001b[0m   \u001b[99m00:09:33<\u001b[93m02:37:48\u001b[0m\u001b[0m  \u001b[99m0.01it/s\u001b[0m  \u001b[99m4/70\u001b[0m   \u001b[99m0.0561\u001b[0m  \u001b[99m0.0541\u001b[0m                      \n",
            "\u001b[1mDescription\u001b[0m   5.7% |\u001b[97m█\u001b[0m\u001b[97m█\u001b[0m                                     |                    \u001b[K\u001b[F\u001b[K\u001b[F \u001b[1mIters\u001b[0m    \u001b[1mElapsed Time\u001b[0m      \u001b[1mSpeed\u001b[0m    \u001b[1mepoch\u001b[0m   \u001b[1mloss\u001b[0m   \u001b[1mloss_a\u001b[0m                      \n",
            " \u001b[99m5/\u001b[93m70\u001b[0m\u001b[0m   \u001b[99m00:11:56<\u001b[93m02:35:11\u001b[0m\u001b[0m  \u001b[99m0.01it/s\u001b[0m  \u001b[99m5/70\u001b[0m   \u001b[99m0.0523\u001b[0m  \u001b[99m0.0507\u001b[0m                      \n",
            "\u001b[1mDescription\u001b[0m   7.1% |\u001b[97m█\u001b[0m\u001b[97m█\u001b[0m                                     |                    \u001b[K\u001b[F\u001b[K\u001b[F \u001b[1mIters\u001b[0m    \u001b[1mElapsed Time\u001b[0m      \u001b[1mSpeed\u001b[0m    \u001b[1mepoch\u001b[0m   \u001b[1mloss\u001b[0m   \u001b[1mloss_a\u001b[0m                      \n",
            " \u001b[99m6/\u001b[93m70\u001b[0m\u001b[0m   \u001b[99m00:14:18<\u001b[93m02:32:40\u001b[0m\u001b[0m  \u001b[99m0.01it/s\u001b[0m  \u001b[99m6/70\u001b[0m   \u001b[99m0.0495\u001b[0m  \u001b[99m0.0476\u001b[0m                      \n",
            "\u001b[1mDescription\u001b[0m   8.6% |\u001b[97m█\u001b[0m\u001b[97m█\u001b[0m\u001b[97m█\u001b[0m                                    |                    \u001b[K\u001b[F\u001b[K\u001b[F \u001b[1mIters\u001b[0m    \u001b[1mElapsed Time\u001b[0m      \u001b[1mSpeed\u001b[0m    \u001b[1mepoch\u001b[0m   \u001b[1mloss\u001b[0m   \u001b[1mloss_a\u001b[0m                      \n",
            " \u001b[99m7/\u001b[93m70\u001b[0m\u001b[0m   \u001b[99m00:16:41<\u001b[93m02:30:11\u001b[0m\u001b[0m  \u001b[99m0.01it/s\u001b[0m  \u001b[99m7/70\u001b[0m   \u001b[99m0.0477\u001b[0m  \u001b[99m0.0480\u001b[0m                      \n",
            "\u001b[1mDescription\u001b[0m  10.0% |\u001b[97m█\u001b[0m\u001b[97m█\u001b[0m\u001b[97m█\u001b[0m                                    |                    \u001b[K\u001b[F\u001b[K\u001b[F \u001b[1mIters\u001b[0m    \u001b[1mElapsed Time\u001b[0m      \u001b[1mSpeed\u001b[0m    \u001b[1mepoch\u001b[0m   \u001b[1mloss\u001b[0m   \u001b[1mloss_a\u001b[0m                      \n",
            " \u001b[99m8/\u001b[93m70\u001b[0m\u001b[0m   \u001b[99m00:19:03<\u001b[93m02:27:44\u001b[0m\u001b[0m  \u001b[99m0.01it/s\u001b[0m  \u001b[99m8/70\u001b[0m   \u001b[99m0.0458\u001b[0m  \u001b[99m0.0442\u001b[0m                      \n",
            "\u001b[1mDescription\u001b[0m  11.4% |\u001b[97m█\u001b[0m\u001b[97m█\u001b[0m\u001b[97m█\u001b[0m\u001b[97m█\u001b[0m                                   |                    \u001b[K\u001b[F\u001b[K\u001b[F \u001b[1mIters\u001b[0m    \u001b[1mElapsed Time\u001b[0m      \u001b[1mSpeed\u001b[0m    \u001b[1mepoch\u001b[0m   \u001b[1mloss\u001b[0m   \u001b[1mloss_a\u001b[0m                      \n",
            " \u001b[99m9/\u001b[93m70\u001b[0m\u001b[0m   \u001b[99m00:21:26<\u001b[93m02:25:18\u001b[0m\u001b[0m  \u001b[99m0.01it/s\u001b[0m  \u001b[99m9/70\u001b[0m   \u001b[99m0.0446\u001b[0m  \u001b[99m0.0430\u001b[0m                      \n",
            "\u001b[1mDescription\u001b[0m  12.9% |\u001b[97m█\u001b[0m\u001b[97m█\u001b[0m\u001b[97m█\u001b[0m\u001b[97m█\u001b[0m\u001b[97m█\u001b[0m                                  |                    \u001b[K\u001b[F\u001b[K\u001b[F \u001b[1mIters\u001b[0m    \u001b[1mElapsed Time\u001b[0m      \u001b[1mSpeed\u001b[0m    \u001b[1mepoch\u001b[0m   \u001b[1mloss\u001b[0m   \u001b[1mloss_a\u001b[0m                      \n",
            " \u001b[99m10/\u001b[93m70\u001b[0m\u001b[0m  \u001b[99m00:23:48<\u001b[93m02:22:52\u001b[0m\u001b[0m  \u001b[99m0.01it/s\u001b[0m  \u001b[99m10/70\u001b[0m  \u001b[99m0.0441\u001b[0m  \u001b[99m0.0424\u001b[0m                      \n",
            "\u001b[1mDescription\u001b[0m  14.3% |\u001b[97m█\u001b[0m\u001b[97m█\u001b[0m\u001b[97m█\u001b[0m\u001b[97m█\u001b[0m\u001b[97m█\u001b[0m                                  |                    \u001b[K\u001b[F\u001b[K\u001b[F \u001b[1mIters\u001b[0m    \u001b[1mElapsed Time\u001b[0m      \u001b[1mSpeed\u001b[0m    \u001b[1mepoch\u001b[0m   \u001b[1mloss\u001b[0m   \u001b[1mloss_a\u001b[0m                      \n",
            " \u001b[99m11/\u001b[93m70\u001b[0m\u001b[0m  \u001b[99m00:26:11<\u001b[93m02:20:27\u001b[0m\u001b[0m  \u001b[99m0.01it/s\u001b[0m  \u001b[99m11/70\u001b[0m  \u001b[99m0.0433\u001b[0m  \u001b[99m0.0417\u001b[0m                      \n",
            "\u001b[1mDescription\u001b[0m  15.7% |\u001b[97m█\u001b[0m\u001b[97m█\u001b[0m\u001b[97m█\u001b[0m\u001b[97m█\u001b[0m\u001b[97m█\u001b[0m\u001b[97m█\u001b[0m                                 |                    \u001b[K\u001b[F\u001b[K\u001b[F \u001b[1mIters\u001b[0m    \u001b[1mElapsed Time\u001b[0m      \u001b[1mSpeed\u001b[0m    \u001b[1mepoch\u001b[0m   \u001b[1mloss\u001b[0m   \u001b[1mloss_a\u001b[0m                      \n",
            " \u001b[99m12/\u001b[93m70\u001b[0m\u001b[0m  \u001b[99m00:28:33<\u001b[93m02:18:03\u001b[0m\u001b[0m  \u001b[99m0.01it/s\u001b[0m  \u001b[99m12/70\u001b[0m  \u001b[99m0.0427\u001b[0m  \u001b[99m0.0419\u001b[0m                      \n",
            "\u001b[1mDescription\u001b[0m  17.1% |\u001b[97m█\u001b[0m\u001b[97m█\u001b[0m\u001b[97m█\u001b[0m\u001b[97m█\u001b[0m\u001b[97m█\u001b[0m\u001b[97m█\u001b[0m                                 |                    \u001b[K\u001b[F\u001b[K\u001b[F \u001b[1mIters\u001b[0m    \u001b[1mElapsed Time\u001b[0m      \u001b[1mSpeed\u001b[0m    \u001b[1mepoch\u001b[0m   \u001b[1mloss\u001b[0m   \u001b[1mloss_a\u001b[0m                      \n",
            " \u001b[99m13/\u001b[93m70\u001b[0m\u001b[0m  \u001b[99m00:30:56<\u001b[93m02:15:39\u001b[0m\u001b[0m  \u001b[99m0.01it/s\u001b[0m  \u001b[99m13/70\u001b[0m  \u001b[99m0.0422\u001b[0m  \u001b[99m0.0420\u001b[0m                      \n",
            "\u001b[1mDescription\u001b[0m  18.6% |\u001b[97m█\u001b[0m\u001b[97m█\u001b[0m\u001b[97m█\u001b[0m\u001b[97m█\u001b[0m\u001b[97m█\u001b[0m\u001b[97m█\u001b[0m\u001b[97m█\u001b[0m                                |                    \u001b[K\u001b[F\u001b[K\u001b[F \u001b[1mIters\u001b[0m    \u001b[1mElapsed Time\u001b[0m      \u001b[1mSpeed\u001b[0m    \u001b[1mepoch\u001b[0m   \u001b[1mloss\u001b[0m   \u001b[1mloss_a\u001b[0m                      \n",
            " \u001b[99m14/\u001b[93m70\u001b[0m\u001b[0m  \u001b[99m00:33:18<\u001b[93m02:13:15\u001b[0m\u001b[0m  \u001b[99m0.01it/s\u001b[0m  \u001b[99m14/70\u001b[0m  \u001b[99m0.0416\u001b[0m  \u001b[99m0.0402\u001b[0m                      \n",
            "\u001b[1mDescription\u001b[0m  20.0% |\u001b[97m█\u001b[0m\u001b[97m█\u001b[0m\u001b[97m█\u001b[0m\u001b[97m█\u001b[0m\u001b[97m█\u001b[0m\u001b[97m█\u001b[0m\u001b[97m█\u001b[0m                                |                    \u001b[K\u001b[F\u001b[K\u001b[F \u001b[1mIters\u001b[0m    \u001b[1mElapsed Time\u001b[0m      \u001b[1mSpeed\u001b[0m    \u001b[1mepoch\u001b[0m   \u001b[1mloss\u001b[0m   \u001b[1mloss_a\u001b[0m                      \n",
            " \u001b[99m15/\u001b[93m70\u001b[0m\u001b[0m  \u001b[99m00:35:41<\u001b[93m02:10:51\u001b[0m\u001b[0m  \u001b[99m0.01it/s\u001b[0m  \u001b[99m15/70\u001b[0m  \u001b[99m0.0412\u001b[0m  \u001b[99m0.0404\u001b[0m                      \n",
            "\u001b[1mDescription\u001b[0m  21.4% |\u001b[97m█\u001b[0m\u001b[97m█\u001b[0m\u001b[97m█\u001b[0m\u001b[97m█\u001b[0m\u001b[97m█\u001b[0m\u001b[97m█\u001b[0m\u001b[97m█\u001b[0m\u001b[97m█\u001b[0m                               |                    \u001b[K\u001b[F\u001b[K\u001b[F \u001b[1mIters\u001b[0m    \u001b[1mElapsed Time\u001b[0m      \u001b[1mSpeed\u001b[0m    \u001b[1mepoch\u001b[0m   \u001b[1mloss\u001b[0m   \u001b[1mloss_a\u001b[0m                      \n",
            " \u001b[99m16/\u001b[93m70\u001b[0m\u001b[0m  \u001b[99m00:38:03<\u001b[93m02:08:27\u001b[0m\u001b[0m  \u001b[99m0.01it/s\u001b[0m  \u001b[99m16/70\u001b[0m  \u001b[99m0.0407\u001b[0m  \u001b[99m0.0403\u001b[0m                      \n",
            "\u001b[1mDescription\u001b[0m  22.9% |\u001b[97m█\u001b[0m\u001b[97m█\u001b[0m\u001b[97m█\u001b[0m\u001b[97m█\u001b[0m\u001b[97m█\u001b[0m\u001b[97m█\u001b[0m\u001b[97m█\u001b[0m\u001b[97m█\u001b[0m                               |                    \u001b[K\u001b[F\u001b[K\u001b[F \u001b[1mIters\u001b[0m    \u001b[1mElapsed Time\u001b[0m      \u001b[1mSpeed\u001b[0m    \u001b[1mepoch\u001b[0m   \u001b[1mloss\u001b[0m   \u001b[1mloss_a\u001b[0m                      \n",
            " \u001b[99m17/\u001b[93m70\u001b[0m\u001b[0m  \u001b[99m00:40:26<\u001b[93m02:06:04\u001b[0m\u001b[0m  \u001b[99m0.01it/s\u001b[0m  \u001b[99m17/70\u001b[0m  \u001b[99m0.0405\u001b[0m  \u001b[99m0.0400\u001b[0m                      \n",
            "\u001b[1mDescription\u001b[0m  24.3% |\u001b[97m█\u001b[0m\u001b[97m█\u001b[0m\u001b[97m█\u001b[0m\u001b[97m█\u001b[0m\u001b[97m█\u001b[0m\u001b[97m█\u001b[0m\u001b[97m█\u001b[0m\u001b[97m█\u001b[0m\u001b[97m█\u001b[0m                              |                    \u001b[K\u001b[F\u001b[K\u001b[F \u001b[1mIters\u001b[0m    \u001b[1mElapsed Time\u001b[0m      \u001b[1mSpeed\u001b[0m    \u001b[1mepoch\u001b[0m   \u001b[1mloss\u001b[0m   \u001b[1mloss_a\u001b[0m                      \n",
            " \u001b[99m18/\u001b[93m70\u001b[0m\u001b[0m  \u001b[99m00:42:48<\u001b[93m02:03:40\u001b[0m\u001b[0m  \u001b[99m0.01it/s\u001b[0m  \u001b[99m18/70\u001b[0m  \u001b[99m0.0400\u001b[0m  \u001b[99m0.0392\u001b[0m                      \n",
            "\u001b[1mDescription\u001b[0m  25.7% |\u001b[97m█\u001b[0m\u001b[97m█\u001b[0m\u001b[97m█\u001b[0m\u001b[97m█\u001b[0m\u001b[97m█\u001b[0m\u001b[97m█\u001b[0m\u001b[97m█\u001b[0m\u001b[97m█\u001b[0m\u001b[97m█\u001b[0m\u001b[97m█\u001b[0m                             |                    \u001b[K\u001b[F\u001b[K\u001b[F \u001b[1mIters\u001b[0m    \u001b[1mElapsed Time\u001b[0m      \u001b[1mSpeed\u001b[0m    \u001b[1mepoch\u001b[0m   \u001b[1mloss\u001b[0m   \u001b[1mloss_a\u001b[0m                      \n",
            " \u001b[99m19/\u001b[93m70\u001b[0m\u001b[0m  \u001b[99m00:45:11<\u001b[93m02:01:17\u001b[0m\u001b[0m  \u001b[99m0.01it/s\u001b[0m  \u001b[99m19/70\u001b[0m  \u001b[99m0.0398\u001b[0m  \u001b[99m0.0396\u001b[0m                      \n",
            "\u001b[1mDescription\u001b[0m  27.1% |\u001b[97m█\u001b[0m\u001b[97m█\u001b[0m\u001b[97m█\u001b[0m\u001b[97m█\u001b[0m\u001b[97m█\u001b[0m\u001b[97m█\u001b[0m\u001b[97m█\u001b[0m\u001b[97m█\u001b[0m\u001b[97m█\u001b[0m\u001b[97m█\u001b[0m                             |                    \u001b[K\u001b[F\u001b[K\u001b[F \u001b[1mIters\u001b[0m    \u001b[1mElapsed Time\u001b[0m      \u001b[1mSpeed\u001b[0m    \u001b[1mepoch\u001b[0m   \u001b[1mloss\u001b[0m   \u001b[1mloss_a\u001b[0m                      \n",
            " \u001b[99m20/\u001b[93m70\u001b[0m\u001b[0m  \u001b[99m00:47:33<\u001b[93m01:58:54\u001b[0m\u001b[0m  \u001b[99m0.01it/s\u001b[0m  \u001b[99m20/70\u001b[0m  \u001b[99m0.0396\u001b[0m  \u001b[99m0.0392\u001b[0m                      \n",
            "\u001b[1mDescription\u001b[0m  28.6% |\u001b[97m█\u001b[0m\u001b[97m█\u001b[0m\u001b[97m█\u001b[0m\u001b[97m█\u001b[0m\u001b[97m█\u001b[0m\u001b[97m█\u001b[0m\u001b[97m█\u001b[0m\u001b[97m█\u001b[0m\u001b[97m█\u001b[0m\u001b[97m█\u001b[0m\u001b[97m█\u001b[0m                            |                    \u001b[K\u001b[F\u001b[K\u001b[F \u001b[1mIters\u001b[0m    \u001b[1mElapsed Time\u001b[0m      \u001b[1mSpeed\u001b[0m    \u001b[1mepoch\u001b[0m   \u001b[1mloss\u001b[0m   \u001b[1mloss_a\u001b[0m                      \n",
            " \u001b[99m21/\u001b[93m70\u001b[0m\u001b[0m  \u001b[99m00:49:56<\u001b[93m01:56:31\u001b[0m\u001b[0m  \u001b[99m0.01it/s\u001b[0m  \u001b[99m21/70\u001b[0m  \u001b[99m0.0393\u001b[0m  \u001b[99m0.0392\u001b[0m                      \n",
            "\u001b[1mDescription\u001b[0m  30.0% |\u001b[97m█\u001b[0m\u001b[97m█\u001b[0m\u001b[97m█\u001b[0m\u001b[97m█\u001b[0m\u001b[97m█\u001b[0m\u001b[97m█\u001b[0m\u001b[97m█\u001b[0m\u001b[97m█\u001b[0m\u001b[97m█\u001b[0m\u001b[97m█\u001b[0m\u001b[97m█\u001b[0m                            |                    \u001b[K\u001b[F\u001b[K\u001b[F \u001b[1mIters\u001b[0m    \u001b[1mElapsed Time\u001b[0m      \u001b[1mSpeed\u001b[0m    \u001b[1mepoch\u001b[0m   \u001b[1mloss\u001b[0m   \u001b[1mloss_a\u001b[0m                      \n",
            " \u001b[99m22/\u001b[93m70\u001b[0m\u001b[0m  \u001b[99m00:52:18<\u001b[93m01:54:08\u001b[0m\u001b[0m  \u001b[99m0.01it/s\u001b[0m  \u001b[99m22/70\u001b[0m  \u001b[99m0.0392\u001b[0m  \u001b[99m0.0389\u001b[0m                      \n",
            "\u001b[1mDescription\u001b[0m  31.4% |\u001b[97m█\u001b[0m\u001b[97m█\u001b[0m\u001b[97m█\u001b[0m\u001b[97m█\u001b[0m\u001b[97m█\u001b[0m\u001b[97m█\u001b[0m\u001b[97m█\u001b[0m\u001b[97m█\u001b[0m\u001b[97m█\u001b[0m\u001b[97m█\u001b[0m\u001b[97m█\u001b[0m\u001b[97m█\u001b[0m                           |                    "
          ]
        }
      ],
      "source": [
        "\n",
        "best_loss = np.inf\n",
        "#model.train()\n",
        "qqdm_train = qqdm(range(num_epochs), desc=format_str('bold', 'Description'), dynamic_ncols=False)\n",
        "#qqdm_train = qqdm(range(num_epochs), desc=format_str('bold', 'Description'))\n",
        "for epoch in qqdm_train:\n",
        "    tot_loss = list()\n",
        "\n",
        "    tot_loss_a = list()\n",
        "    aux.train()\n",
        "    temperature = epoch // 2 + 1\n",
        "\n",
        "    for data in train_dataloader:\n",
        "\n",
        "        # ===================loading=====================\n",
        "        img = data.float().cuda()\n",
        "        if model_type in ['fcn']:\n",
        "            img = img.view(img.shape[0], -1)\n",
        "\n",
        "        # ===================forward=====================\n",
        "        model.train()\n",
        "        output = model(img)\n",
        "        if model_type in ['vae']:\n",
        "            loss = loss_vae(output[0], img, output[1], output[2], criterion)\n",
        "        else:\n",
        "            loss = criterion(output, img)\n",
        "        loss = loss.mean()\n",
        "        tot_loss.append(loss.item())\n",
        "        # ===================backward====================\n",
        "        optimizer.zero_grad()\n",
        "        loss.backward()\n",
        "        optimizer.step()\n",
        "\n",
        "        # format writting\n",
        "        # reference link\n",
        "        # https://blog.csdn.net/weixin_42369818/article/details/125292835?ops_request_misc=%257B%2522request%255Fid%2522%253A%2522168321094516800182172074%2522%252C%2522scm%2522%253A%252220140713.130102334..%2522%257D&request_id=168321094516800182172074&biz_id=0&utm_medium=distribute.pc_search_result.none-task-blog-2~all~sobaiduend~default-1-125292835-null-null.142^v86^insert_down1,239^v2^insert_chatgpt&utm_term=%E6%9D%8E%E5%AE%8F%E6%AF%85hw8&spm=1018.2226.3001.4187\n",
        "        model.eval()\n",
        "        z = model.encoder(img).detach_()\n",
        "        output = output.detach_()\n",
        "        output_a = aux(z)\n",
        "        loss_a = (criterion(output_a, output).mul(temperature).exp())*criterion(output_a, img)\n",
        "        loss_a = loss_a.mean()\n",
        "        tot_loss_a.append(loss_a.item())\n",
        "        optimizer_a.zero_grad()\n",
        "        loss_a.backward()\n",
        "        optimizer_a.step()\n",
        "\n",
        "    # ===================save_best====================\n",
        "    mean_loss = np.mean(tot_loss)\n",
        "    if mean_loss < best_loss:\n",
        "        best_loss = mean_loss\n",
        "        torch.save(model, 'best_model_{}.pt'.format(model_type))\n",
        "\n",
        "        torch.save(aux, 'best_model_a_{}.pt'.format(model_type))\n",
        "    # ===================log========================\n",
        "    qqdm_train.set_infos({\n",
        "        'epoch': f'{epoch + 1:.0f}/{num_epochs:.0f}',\n",
        "        'loss': f'{mean_loss:.4f}',\n",
        "\n",
        "        'loss_a':f'{np.mean(tot_loss_a):.4f}'\n",
        "    })\n",
        "    # ===================save_last========================\n",
        "    torch.save(model, 'last_model_{}.pt'.format(model_type))\n",
        "    # format writting\n",
        "    # reference link\n",
        "    # https://blog.csdn.net/weixin_42369818/article/details/125292835?ops_request_misc=%257B%2522request%255Fid%2522%253A%2522168321094516800182172074%2522%252C%2522scm%2522%253A%252220140713.130102334..%2522%257D&request_id=168321094516800182172074&biz_id=0&utm_medium=distribute.pc_search_result.none-task-blog-2~all~sobaiduend~default-1-125292835-null-null.142^v86^insert_down1,239^v2^insert_chatgpt&utm_term=%E6%9D%8E%E5%AE%8F%E6%AF%85hw8&spm=1018.2226.3001.4187\n",
        "    torch.save(aux, 'last_model_a_{}.pt'.format(model_type))"
      ]
    },
    {
      "cell_type": "markdown",
      "metadata": {
        "id": "Wk0UxFuchLzR"
      },
      "source": [
        "# Inference\n",
        "Model is loaded and generates its anomaly score predictions."
      ]
    },
    {
      "cell_type": "markdown",
      "metadata": {
        "id": "evgMW3OwoGqD"
      },
      "source": [
        "## Initialize\n",
        "- dataloader\n",
        "- model\n",
        "- prediction file"
      ]
    },
    {
      "cell_type": "markdown",
      "metadata": {
        "id": "p8JOxrzoQkeU"
      },
      "source": [
        "# format writting\n",
        "# reference link\n",
        "https://blog.csdn.net/weixin_42369818/article/details/125292835?ops_request_misc=%257B%2522request%255Fid%2522%253A%2522168321094516800182172074%2522%252C%2522scm%2522%253A%252220140713.130102334..%2522%257D&request_id=168321094516800182172074&biz_id=0&utm_medium=distribute.pc_search_result.none-task-blog-2~all~sobaiduend~default-1-125292835-null-null.142^v86^insert_down1,239^v2^insert_chatgpt&utm_term=%E6%9D%8E%E5%AE%8F%E6%AF%85hw8&spm=1018.2226.3001.4187"
      ]
    },
    {
      "cell_type": "code",
      "execution_count": null,
      "metadata": {
        "id": "_MBnXAswoKmq"
      },
      "outputs": [],
      "source": [
        "eval_batch_size = 200\n",
        "\n",
        "# build testing dataloader\n",
        "data = torch.tensor(test, dtype=torch.float32)\n",
        "test_dataset = CustomTensorDataset(data)\n",
        "test_sampler = SequentialSampler(test_dataset)\n",
        "test_dataloader = DataLoader(test_dataset, sampler=test_sampler, batch_size=eval_batch_size, num_workers=1)\n",
        "eval_loss = nn.MSELoss(reduction='none')\n",
        "\n",
        "# load trained model\n",
        "checkpoint_path = f'last_model_{model_type}.pt'\n",
        "checkpoint_path_a = f'best_model_a_{model_type}.pt'\n",
        "model = torch.load(checkpoint_path).cuda()\n",
        "aux = torch.load(checkpoint_path_a).cuda()\n",
        "model.eval()\n",
        "\n",
        "# prediction file \n",
        "out_file = 'prediction.csv'\n",
        "\n",
        "# format writting\n",
        "# reference link\n",
        "# https://blog.csdn.net/weixin_42369818/article/details/125292835?ops_request_misc=%257B%2522request%255Fid%2522%253A%2522168321094516800182172074%2522%252C%2522scm%2522%253A%252220140713.130102334..%2522%257D&request_id=168321094516800182172074&biz_id=0&utm_medium=distribute.pc_search_result.none-task-blog-2~all~sobaiduend~default-1-125292835-null-null.142^v86^insert_down1,239^v2^insert_chatgpt&utm_term=%E6%9D%8E%E5%AE%8F%E6%AF%85hw8&spm=1018.2226.3001.4187\n",
        "out_file_a = 'prediction_a.csv'"
      ]
    },
    {
      "cell_type": "markdown",
      "metadata": {
        "id": "lqYRkD38QlZu"
      },
      "source": [
        "# format writting\n",
        "# reference link\n",
        "https://blog.csdn.net/weixin_42369818/article/details/125292835?ops_request_misc=%257B%2522request%255Fid%2522%253A%2522168321094516800182172074%2522%252C%2522scm%2522%253A%252220140713.130102334..%2522%257D&request_id=168321094516800182172074&biz_id=0&utm_medium=distribute.pc_search_result.none-task-blog-2~all~sobaiduend~default-1-125292835-null-null.142^v86^insert_down1,239^v2^insert_chatgpt&utm_term=%E6%9D%8E%E5%AE%8F%E6%AF%85hw8&spm=1018.2226.3001.4187"
      ]
    },
    {
      "cell_type": "code",
      "execution_count": null,
      "metadata": {
        "id": "_1IxCX2iCW6V"
      },
      "outputs": [],
      "source": [
        "anomality = list()\n",
        "auxs = list()\n",
        "with torch.no_grad():\n",
        "  for i, data in enumerate(test_dataloader):\n",
        "    img = data.float().cuda()\n",
        "    if model_type in ['fcn']:\n",
        "      img = img.view(img.shape[0], -1)\n",
        "    \n",
        "    z = model.encoder(img)\n",
        "\n",
        "    output = model(img)\n",
        "    output_a = aux(z)\n",
        "    if model_type in ['vae']:\n",
        "      output = output[0]\n",
        "    if model_type in ['fcn']:\n",
        "        loss = eval_loss(output, img).mean(-1)\n",
        "        #loss = eval_loss(output, img).sum(-1)\n",
        "    else:\n",
        "        #loss = eval_loss(output, img).sum([1, 2, 3])\n",
        "        #loss_a = eval_loss(output_a, img).sum([1, 2, 3])\n",
        "        loss = eval_loss(output, img).mean([1, 2, 3])\n",
        "        loss_a = eval_loss(output_a, img).mean([1, 2, 3])\n",
        "    anomality.append(loss)\n",
        "    auxs.append(loss_a)\n",
        "anomality = torch.cat(anomality, axis=0)\n",
        "anomality = torch.sqrt(anomality).reshape(len(test), 1).cpu().numpy()\n",
        "\n",
        "# format writting\n",
        "# reference link\n",
        "# https://blog.csdn.net/weixin_42369818/article/details/125292835?ops_request_misc=%257B%2522request%255Fid%2522%253A%2522168321094516800182172074%2522%252C%2522scm%2522%253A%252220140713.130102334..%2522%257D&request_id=168321094516800182172074&biz_id=0&utm_medium=distribute.pc_search_result.none-task-blog-2~all~sobaiduend~default-1-125292835-null-null.142^v86^insert_down1,239^v2^insert_chatgpt&utm_term=%E6%9D%8E%E5%AE%8F%E6%AF%85hw8&spm=1018.2226.3001.4187\n",
        "auxs = torch.cat(auxs, axis=0)\n",
        "auxs = torch.sqrt(auxs).reshape(len(test), 1).cpu().numpy()\n",
        "\n",
        "df = pd.DataFrame(anomality, columns=['score'])\n",
        "df.to_csv(out_file, index_label = 'ID')\n",
        "\n",
        "# format writting\n",
        "# reference link\n",
        "# https://blog.csdn.net/weixin_42369818/article/details/125292835?ops_request_misc=%257B%2522request%255Fid%2522%253A%2522168321094516800182172074%2522%252C%2522scm%2522%253A%252220140713.130102334..%2522%257D&request_id=168321094516800182172074&biz_id=0&utm_medium=distribute.pc_search_result.none-task-blog-2~all~sobaiduend~default-1-125292835-null-null.142^v86^insert_down1,239^v2^insert_chatgpt&utm_term=%E6%9D%8E%E5%AE%8F%E6%AF%85hw8&spm=1018.2226.3001.4187\n",
        "df_a = pd.DataFrame(auxs, columns=['score'])\n",
        "df_a.to_csv(out_file_a, index_label = 'ID')"
      ]
    }
  ],
  "metadata": {
    "accelerator": "GPU",
    "colab": {
      "collapsed_sections": [
        "bDk9r2YOcDc9",
        "Oi12tJMYWi0Q",
        "DCgNXSsEWuY7",
        "HNe7QU7n7cqh",
        "6X6fkGPnYyaF",
        "1EbfwRREhA7c",
        "vrJ9bScg9AgO",
        "XKNUImqUhIeq"
      ],
      "provenance": []
    },
    "gpuClass": "standard",
    "kernelspec": {
      "display_name": "Python 3",
      "name": "python3"
    }
  },
  "nbformat": 4,
  "nbformat_minor": 0
}