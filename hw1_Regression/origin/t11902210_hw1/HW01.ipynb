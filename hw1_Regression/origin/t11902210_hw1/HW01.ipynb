{
  "cells": [
    {
      "cell_type": "markdown",
      "metadata": {
        "id": "guE34D3Fj2R9"
      },
      "source": [
        "# **Homework 1: COVID-19 Cases Prediction (Regression)**"
      ]
    },
    {
      "cell_type": "markdown",
      "metadata": {
        "id": "V57zhcTp1Xxb"
      },
      "source": [
        "Objectives:\n",
        "* Solve a regression problem with deep neural networks (DNN).\n",
        "* Understand basic DNN training tips.\n",
        "* Familiarize yourself with PyTorch.\n",
        "\n",
        "If you have any questions, please contact the TAs via TA hours, NTU COOL, or email to mlta-2023-spring@googlegroups.com"
      ]
    },
    {
      "cell_type": "code",
      "execution_count": 1,
      "metadata": {
        "colab": {
          "base_uri": "https://localhost:8080/"
        },
        "id": "GUATI4ONArv_",
        "outputId": "77775a43-6085-4972-89cf-ac5bfa6e7dfd"
      },
      "outputs": [
        {
          "output_type": "stream",
          "name": "stdout",
          "text": [
            "Thu Mar 16 14:55:13 2023       \n",
            "+-----------------------------------------------------------------------------+\n",
            "| NVIDIA-SMI 525.85.12    Driver Version: 525.85.12    CUDA Version: 12.0     |\n",
            "|-------------------------------+----------------------+----------------------+\n",
            "| GPU  Name        Persistence-M| Bus-Id        Disp.A | Volatile Uncorr. ECC |\n",
            "| Fan  Temp  Perf  Pwr:Usage/Cap|         Memory-Usage | GPU-Util  Compute M. |\n",
            "|                               |                      |               MIG M. |\n",
            "|===============================+======================+======================|\n",
            "|   0  Tesla T4            Off  | 00000000:00:04.0 Off |                    0 |\n",
            "| N/A   52C    P0    27W /  70W |      0MiB / 15360MiB |      0%      Default |\n",
            "|                               |                      |                  N/A |\n",
            "+-------------------------------+----------------------+----------------------+\n",
            "                                                                               \n",
            "+-----------------------------------------------------------------------------+\n",
            "| Processes:                                                                  |\n",
            "|  GPU   GI   CI        PID   Type   Process name                  GPU Memory |\n",
            "|        ID   ID                                                   Usage      |\n",
            "|=============================================================================|\n",
            "|  No running processes found                                                 |\n",
            "+-----------------------------------------------------------------------------+\n"
          ]
        }
      ],
      "source": [
        "# check gpu type\n",
        "!nvidia-smi"
      ]
    },
    {
      "cell_type": "markdown",
      "metadata": {
        "id": "Tm2aXcb-j9Fc"
      },
      "source": [
        "# Download data\n",
        "If the Google Drive links below do not work, you can use the dropbox link below or download data from [Kaggle](https://www.kaggle.com/competitions/ml2023spring-hw1/overview), and upload data manually to the workspace."
      ]
    },
    {
      "cell_type": "code",
      "execution_count": 2,
      "metadata": {
        "colab": {
          "base_uri": "https://localhost:8080/"
        },
        "id": "YPmfl-awlKZA",
        "outputId": "524ed03a-f05a-40ba-d4be-796dc283c370"
      },
      "outputs": [
        {
          "output_type": "stream",
          "name": "stdout",
          "text": [
            "--2023-03-16 14:55:13--  https://www.dropbox.com/s/lmy1riadzoy0ahw/covid.train.csv?dl=0\n",
            "Resolving www.dropbox.com (www.dropbox.com)... 162.125.81.18, 2620:100:6031:18::a27d:5112\n",
            "Connecting to www.dropbox.com (www.dropbox.com)|162.125.81.18|:443... connected.\n",
            "HTTP request sent, awaiting response... 302 Found\n",
            "Location: /s/raw/lmy1riadzoy0ahw/covid.train.csv [following]\n",
            "--2023-03-16 14:55:14--  https://www.dropbox.com/s/raw/lmy1riadzoy0ahw/covid.train.csv\n",
            "Reusing existing connection to www.dropbox.com:443.\n",
            "HTTP request sent, awaiting response... 302 Found\n",
            "Location: https://uc0e2cfa1d249b0efd98a4bce0ee.dl.dropboxusercontent.com/cd/0/inline/B4VOUSyCXA6tHryQUaJH7ovPP7kRSXOaZUVqsJJ0bUHl7ND6AQTWVn6nwJke0vSqNTz2u8KSTtpbP-fQ7mUL9e4Zrxg21ZrNpuuJJoxk1EVFcVwuECO1qX9KzFLl1tSwamsIXkBhjYG1MK4oidFjG0GYbjo_40cm0X9MPOSFeD2cHA/file# [following]\n",
            "--2023-03-16 14:55:14--  https://uc0e2cfa1d249b0efd98a4bce0ee.dl.dropboxusercontent.com/cd/0/inline/B4VOUSyCXA6tHryQUaJH7ovPP7kRSXOaZUVqsJJ0bUHl7ND6AQTWVn6nwJke0vSqNTz2u8KSTtpbP-fQ7mUL9e4Zrxg21ZrNpuuJJoxk1EVFcVwuECO1qX9KzFLl1tSwamsIXkBhjYG1MK4oidFjG0GYbjo_40cm0X9MPOSFeD2cHA/file\n",
            "Resolving uc0e2cfa1d249b0efd98a4bce0ee.dl.dropboxusercontent.com (uc0e2cfa1d249b0efd98a4bce0ee.dl.dropboxusercontent.com)... 162.125.69.15, 2620:100:6031:15::a27d:510f\n",
            "Connecting to uc0e2cfa1d249b0efd98a4bce0ee.dl.dropboxusercontent.com (uc0e2cfa1d249b0efd98a4bce0ee.dl.dropboxusercontent.com)|162.125.69.15|:443... connected.\n",
            "HTTP request sent, awaiting response... 200 OK\n",
            "Length: 2162766 (2.1M) [text/plain]\n",
            "Saving to: ‘covid_train.csv’\n",
            "\n",
            "covid_train.csv     100%[===================>]   2.06M  1.28MB/s    in 1.6s    \n",
            "\n",
            "2023-03-16 14:55:18 (1.28 MB/s) - ‘covid_train.csv’ saved [2162766/2162766]\n",
            "\n",
            "--2023-03-16 14:55:18--  https://www.dropbox.com/s/zalbw42lu4nmhr2/covid.test.csv?dl=0\n",
            "Resolving www.dropbox.com (www.dropbox.com)... 162.125.81.18, 2620:100:6031:18::a27d:5112\n",
            "Connecting to www.dropbox.com (www.dropbox.com)|162.125.81.18|:443... connected.\n",
            "HTTP request sent, awaiting response... 302 Found\n",
            "Location: /s/raw/zalbw42lu4nmhr2/covid.test.csv [following]\n",
            "--2023-03-16 14:55:19--  https://www.dropbox.com/s/raw/zalbw42lu4nmhr2/covid.test.csv\n",
            "Reusing existing connection to www.dropbox.com:443.\n",
            "HTTP request sent, awaiting response... 302 Found\n",
            "Location: https://ucde6a28342fc85a23a3ed1fedda.dl.dropboxusercontent.com/cd/0/inline/B4Vz41PkT4N-Tr9XF7nWqsA1QMukJsCXlUBKZViYDQnzlG8NlRnWabcmule0k4_pPuaZT9WwajqTuEEZbW5Z3jJFwqpMX6Vi_EkBzH9AAT7oi5HNosd9uFuT-hVNGwobmBnfW49ubLd03Z_aSGaA-Or7g8D6P8tpECzlxTtw_SmmYw/file# [following]\n",
            "--2023-03-16 14:55:19--  https://ucde6a28342fc85a23a3ed1fedda.dl.dropboxusercontent.com/cd/0/inline/B4Vz41PkT4N-Tr9XF7nWqsA1QMukJsCXlUBKZViYDQnzlG8NlRnWabcmule0k4_pPuaZT9WwajqTuEEZbW5Z3jJFwqpMX6Vi_EkBzH9AAT7oi5HNosd9uFuT-hVNGwobmBnfW49ubLd03Z_aSGaA-Or7g8D6P8tpECzlxTtw_SmmYw/file\n",
            "Resolving ucde6a28342fc85a23a3ed1fedda.dl.dropboxusercontent.com (ucde6a28342fc85a23a3ed1fedda.dl.dropboxusercontent.com)... 162.125.81.15, 2620:100:6031:15::a27d:510f\n",
            "Connecting to ucde6a28342fc85a23a3ed1fedda.dl.dropboxusercontent.com (ucde6a28342fc85a23a3ed1fedda.dl.dropboxusercontent.com)|162.125.81.15|:443... connected.\n",
            "HTTP request sent, awaiting response... 200 OK\n",
            "Length: 638359 (623K) [text/plain]\n",
            "Saving to: ‘covid_test.csv’\n",
            "\n",
            "covid_test.csv      100%[===================>] 623.40K  4.02MB/s    in 0.2s    \n",
            "\n",
            "2023-03-16 14:55:20 (4.02 MB/s) - ‘covid_test.csv’ saved [638359/638359]\n",
            "\n"
          ]
        }
      ],
      "source": [
        "# google drive link\n",
        "# !gdown --id '1BjXalPZxq9mybPKNjF3h5L3NcF7XKTS-' --output covid_train.csv\n",
        "# !gdown --id '1B55t74Jg2E5FCsKCsUEkPKIuqaY7UIi1' --output covid_test.csv\n",
        "\n",
        "# dropbox link\n",
        "!wget -O covid_train.csv https://www.dropbox.com/s/lmy1riadzoy0ahw/covid.train.csv?dl=0\n",
        "!wget -O covid_test.csv https://www.dropbox.com/s/zalbw42lu4nmhr2/covid.test.csv?dl=0"
      ]
    },
    {
      "cell_type": "markdown",
      "metadata": {
        "id": "igqIMEgu64-F"
      },
      "source": [
        "# Import packages"
      ]
    },
    {
      "cell_type": "code",
      "execution_count": 3,
      "metadata": {
        "id": "xybQNYCXYu13"
      },
      "outputs": [],
      "source": [
        "# Numerical Operations\n",
        "import math\n",
        "import numpy as np\n",
        "\n",
        "# Reading/Writing Data\n",
        "import pandas as pd\n",
        "import os\n",
        "import csv\n",
        "\n",
        "# For Progress Bar\n",
        "from tqdm import tqdm\n",
        "\n",
        "# Pytorch\n",
        "import torch \n",
        "import torch.nn as nn\n",
        "from torch.utils.data import Dataset, DataLoader, random_split\n",
        "\n",
        "# For plotting learning curve\n",
        "from torch.utils.tensorboard import SummaryWriter"
      ]
    },
    {
      "cell_type": "markdown",
      "metadata": {
        "id": "fTAVqRfc2KK3"
      },
      "source": [
        "# Some Utility Functions\n",
        "\n",
        "You do not need to modify this part."
      ]
    },
    {
      "cell_type": "code",
      "execution_count": 4,
      "metadata": {
        "id": "RbrcpfYN2I-H"
      },
      "outputs": [],
      "source": [
        "def same_seed(seed): \n",
        "    '''Fixes random number generator seeds for reproducibility.'''\n",
        "    torch.backends.cudnn.deterministic = True\n",
        "    torch.backends.cudnn.benchmark = False\n",
        "    np.random.seed(seed)\n",
        "    torch.manual_seed(seed)\n",
        "    if torch.cuda.is_available():\n",
        "        torch.cuda.manual_seed_all(seed)\n",
        "\n",
        "def train_valid_split(data_set, valid_ratio, seed):\n",
        "    '''Split provided training data into training set and validation set'''\n",
        "    valid_set_size = int(valid_ratio * len(data_set)) \n",
        "    train_set_size = len(data_set) - valid_set_size\n",
        "    train_set, valid_set = random_split(data_set, [train_set_size, valid_set_size], generator=torch.Generator().manual_seed(seed))\n",
        "    return np.array(train_set), np.array(valid_set)\n",
        "\n",
        "def predict(test_loader, model, device):\n",
        "    model.eval() # Set your model to evaluation mode.\n",
        "    preds = []\n",
        "    for x in tqdm(test_loader):\n",
        "        x = x.to(device)                        \n",
        "        with torch.no_grad():                   \n",
        "            pred = model(x)                     \n",
        "            preds.append(pred.detach().cpu())   \n",
        "    preds = torch.cat(preds, dim=0).numpy()  \n",
        "    return preds"
      ]
    },
    {
      "cell_type": "markdown",
      "metadata": {
        "id": "IqO3lTm78nNO"
      },
      "source": [
        "# Dataset"
      ]
    },
    {
      "cell_type": "code",
      "execution_count": 5,
      "metadata": {
        "id": "-mjaJM0wprMs"
      },
      "outputs": [],
      "source": [
        "class COVID19Dataset(Dataset):\n",
        "    '''\n",
        "    x: Features.\n",
        "    y: Targets, if none, do prediction.\n",
        "    '''\n",
        "    def __init__(self, x, y=None):\n",
        "        if y is None:\n",
        "            self.y = y\n",
        "        else:\n",
        "            self.y = torch.FloatTensor(y)\n",
        "        self.x = torch.FloatTensor(x)\n",
        "\n",
        "    def __getitem__(self, idx):\n",
        "        if self.y is None:\n",
        "            return self.x[idx]\n",
        "        else:\n",
        "            return self.x[idx], self.y[idx]\n",
        "\n",
        "    def __len__(self):\n",
        "        return len(self.x)"
      ]
    },
    {
      "cell_type": "markdown",
      "metadata": {
        "id": "m73ooU75CL_j"
      },
      "source": [
        "# Neural Network Model\n",
        "Try out different model architectures by modifying the class below.\n",
        "\n",
        "# 卷積層設定 reference link\n",
        "https://www.ewbang.com/community/article/details/961479032.html"
      ]
    },
    {
      "cell_type": "code",
      "execution_count": 6,
      "metadata": {
        "id": "Qn97_WvvrEkG"
      },
      "outputs": [],
      "source": [
        "class My_Model(nn.Module):\n",
        "    def __init__(self, input_dim):\n",
        "        super(My_Model, self).__init__()\n",
        "        # TODO: modify model's structure, be aware of dimensions. \n",
        "        self.layers = nn.Sequential(\n",
        "           nn.Linear(input_dim, 64),\n",
        "            nn.LeakyReLU(0.2),\n",
        "            nn.BatchNorm1d(64),\n",
        "            nn.Dropout(0.2),\n",
        "            nn.Linear(64, 16),\n",
        "            nn.LeakyReLU(0.2),\n",
        "            nn.Dropout(0.1), \n",
        "            nn.Linear(16, 1)\n",
        "        )\n",
        "        self.criterion = nn.MSELoss(reduction=\"mean\")\n",
        "\n",
        "    def forward(self, x):\n",
        "        x = self.layers(x)\n",
        "        x = x.squeeze(1) # (B, 1) -> (B)\n",
        "        return x\n",
        "\n",
        "    def cal_loss(self, y, y_hat):\n",
        "        \"\"\" Calculate loss \"\"\"\n",
        "        loss = torch.sqrt(self.criterion(y, y_hat))\n",
        "        #l2 = 0\n",
        "        #for i in self.parameters():\n",
        "          #l2 += torch.sum(torch.pow(i, 2))\n",
        "        #return loss + 0.01 * l2, loss \n",
        "        l1 = 0\n",
        "        for i in self.parameters():\n",
        "          l1 += torch.sum(abs(i))\n",
        "        return loss + 0.0001 * l1, loss  "
      ]
    },
    {
      "cell_type": "markdown",
      "metadata": {
        "id": "x5-LKF6R8xeq"
      },
      "source": [
        "# Feature Selection\n",
        "Choose features you deem useful by modifying the function below.\n",
        "\n",
        "# reference link\n",
        "https://zhuanlan.zhihu.com/p/33199547?utm_id=0\n",
        "https://www.ewbang.com/community/article/details/961479032.html"
      ]
    },
    {
      "cell_type": "code",
      "execution_count": 7,
      "metadata": {
        "id": "ckni_1EgOLLR"
      },
      "outputs": [],
      "source": [
        "from sklearn.feature_selection import SelectKBest\n",
        "from sklearn.feature_selection import f_regression\n",
        "\n",
        "features = pd.read_csv('./covid_train.csv')\n",
        "x_data, y_data = features.iloc[:, 0:88], features.iloc[:, 88]\n",
        "k = 24\n",
        "selector = SelectKBest(score_func=f_regression, k=k)\n",
        "result = selector.fit(x_data, y_data)\n",
        "idx = np.argsort(result.scores_)[::-1]\n",
        "selected_idx = list(np.sort(idx[:k]))"
      ]
    },
    {
      "cell_type": "code",
      "execution_count": 8,
      "metadata": {
        "id": "0FEnKRaIIeKp"
      },
      "outputs": [],
      "source": [
        "def select_feat(train_data, valid_data, test_data, select_all=True):\n",
        "    '''Selects useful features to perform regression'''\n",
        "    y_train, y_valid = train_data[:,-1], valid_data[:,-1]\n",
        "    raw_x_train, raw_x_valid, raw_x_test = train_data[:,:-1], valid_data[:,:-1], test_data\n",
        "\n",
        "    if select_all:\n",
        "        feat_idx = list(range(raw_x_train.shape[1]))\n",
        "    else:\n",
        "        feat_idx = selected_idx # TODO: Select suitable feature columns.\n",
        "        \n",
        "    return raw_x_train[:,feat_idx], raw_x_valid[:,feat_idx], raw_x_test[:,feat_idx], y_train, y_valid"
      ]
    },
    {
      "cell_type": "markdown",
      "metadata": {
        "id": "kADIPNQ2Ih5X"
      },
      "source": [
        "# Training Loop\n",
        "\n",
        "# adam和正則化 reference link\n",
        "https://blog.csdn.net/shuaiqidexiaojiejie/article/details/123941644"
      ]
    },
    {
      "cell_type": "code",
      "execution_count": 9,
      "metadata": {
        "id": "k4Rq8_TztAhq"
      },
      "outputs": [],
      "source": [
        "def trainer(train_loader, valid_loader, model, config, device):\n",
        "\n",
        "    criterion = nn.MSELoss(reduction='mean') # Define your loss function, do not modify this.\n",
        "\n",
        "    # Define your optimization algorithm. \n",
        "    # TODO: Please check https://pytorch.org/docs/stable/optim.html to get more available algorithms.\n",
        "    # TODO: L2 regularization (optimizer(weight decay...) or implement by your self).\n",
        "    #optimizer = torch.optim.SGD(model.parameters(), lr=config['learning_rate'], momentum=0.7) \n",
        "    optimizer = torch.optim.Adam(model.parameters(), lr=config['learning_rate']*50,\n",
        "                                 weight_decay=1e-5)\n",
        "    scheduler = torch.optim.lr_scheduler.CosineAnnealingWarmRestarts(optimizer, \n",
        "                                        T_0=2, T_mult=2, eta_min=config['learning_rate'])\n",
        "    writer = SummaryWriter() # Writer of tensoboard.\n",
        "\n",
        "    if not os.path.isdir('./models'):\n",
        "        os.mkdir('./models') # Create directory of saving models.\n",
        "\n",
        "    n_epochs, best_loss, step, early_stop_count = config['n_epochs'], math.inf, 0, 0\n",
        "\n",
        "    for epoch in range(n_epochs):\n",
        "        model.train() # Set your model to train mode.\n",
        "        loss_record = []\n",
        "\n",
        "        # tqdm is a package to visualize your training progress.\n",
        "        train_pbar = tqdm(train_loader, position=0, leave=True)\n",
        "\n",
        "        for x, y in train_pbar:\n",
        "            optimizer.zero_grad()               # Set gradient to zero.\n",
        "            x, y = x.to(device), y.to(device)   # Move your data to device. \n",
        "            pred = model(x)             \n",
        "            loss = criterion(pred, y)\n",
        "            #loss,rmse_loss = model.cal_loss(y, pred)\n",
        "            loss.backward()                     # Compute gradient(backpropagation).\n",
        "            optimizer.step()                    # Update parameters.\n",
        "            step += 1\n",
        "            loss_record.append(loss.detach().item())\n",
        "            #loss_record.append(rmse_loss.detach().item())\n",
        "            \n",
        "            # Display current epoch number and loss on tqdm progress bar.\n",
        "            train_pbar.set_description(f'Epoch [{epoch+1}/{n_epochs}]')\n",
        "            train_pbar.set_postfix({'loss': loss.detach().item()})\n",
        "\n",
        "        scheduler.step() \n",
        "        mean_train_loss = sum(loss_record)/len(loss_record)\n",
        "        writer.add_scalar('Loss/train', mean_train_loss, step)\n",
        "\n",
        "        model.eval() # Set your model to evaluation mode.\n",
        "        loss_record = []\n",
        "        for x, y in valid_loader:\n",
        "            x, y = x.to(device), y.to(device)\n",
        "            with torch.no_grad():\n",
        "                pred = model(x)\n",
        "                loss = criterion(pred, y)\n",
        "                #loss,rmse_loss = model.cal_loss(y, pred)\n",
        "\n",
        "            loss_record.append(loss.item())\n",
        "            #loss_record.append(rmse_loss.detach().item())\n",
        "            \n",
        "        mean_valid_loss = sum(loss_record)/len(loss_record)\n",
        "        print(f'Epoch [{epoch+1}/{n_epochs}]: Train loss: {mean_train_loss:.4f}, Valid loss: {mean_valid_loss:.4f}')\n",
        "        # writer.add_scalar('Loss/valid', mean_valid_loss, step)\n",
        "\n",
        "        if mean_valid_loss < best_loss:\n",
        "            best_loss = mean_valid_loss\n",
        "            torch.save(model.state_dict(), config['save_path']) # Save your best model\n",
        "            print('Saving model with loss {:.3f}...'.format(best_loss))\n",
        "            early_stop_count = 0\n",
        "        else: \n",
        "            early_stop_count += 1\n",
        "\n",
        "        if early_stop_count >= config['early_stop']:\n",
        "            print('\\nModel is not improving, so we halt the training session.')\n",
        "            return"
      ]
    },
    {
      "cell_type": "markdown",
      "metadata": {
        "id": "0pgkOh2e9UjE"
      },
      "source": [
        "# Configurations\n",
        "`config` contains hyper-parameters for training and the path to save your model."
      ]
    },
    {
      "cell_type": "code",
      "execution_count": 10,
      "metadata": {
        "id": "QoWPUahCtoT6"
      },
      "outputs": [],
      "source": [
        "device = 'cuda' if torch.cuda.is_available() else 'cpu'\n",
        "config = {\n",
        "    'seed': 5201314,      # Your seed number, you can pick your lucky number. :)\n",
        "    'select_all': False,   # Whether to use all features.\n",
        "    'valid_ratio': 0.2,   # validation_size = train_size * valid_ratio\n",
        "    'n_epochs': 5000,     # Number of epochs.            \n",
        "    'batch_size': 64, \n",
        "    'learning_rate': 1e-5,              \n",
        "    'early_stop': 600,    # If model has not improved for this many consecutive epochs, stop training.     \n",
        "    'save_path': './models/model.ckpt'  # Your model will be saved here.\n",
        "}\n"
      ]
    },
    {
      "cell_type": "markdown",
      "metadata": {
        "id": "lrS-aJJh9XkW"
      },
      "source": [
        "# Dataloader\n",
        "Read data from files and set up training, validation, and testing sets. You do not need to modify this part."
      ]
    },
    {
      "cell_type": "code",
      "execution_count": 11,
      "metadata": {
        "colab": {
          "base_uri": "https://localhost:8080/"
        },
        "id": "2jc7ZfDot2t9",
        "outputId": "f0df5f21-01a6-4570-e899-f9334e5e33fa"
      },
      "outputs": [
        {
          "output_type": "stream",
          "name": "stdout",
          "text": [
            "train_data size: (2408, 89) \n",
            "valid_data size: (601, 89) \n",
            "test_data size: (997, 88)\n",
            "number of features: 24\n"
          ]
        }
      ],
      "source": [
        "same_seed(config['seed'])\n",
        "train_data, test_data = pd.read_csv('./covid_train.csv').values, pd.read_csv('./covid_test.csv').values\n",
        "train_data, valid_data = train_valid_split(train_data, config['valid_ratio'], config['seed'])\n",
        "\n",
        "# Print out the data size.\n",
        "print(f\"\"\"train_data size: {train_data.shape} \n",
        "valid_data size: {valid_data.shape} \n",
        "test_data size: {test_data.shape}\"\"\")\n",
        "\n",
        "# Select features\n",
        "x_train, x_valid, x_test, y_train, y_valid = select_feat(train_data, valid_data, test_data, config['select_all'])\n",
        "\n",
        "# Print out the number of features.\n",
        "print(f'number of features: {x_train.shape[1]}')\n",
        "\n",
        "train_dataset, valid_dataset, test_dataset = COVID19Dataset(x_train, y_train), \\\n",
        "                                            COVID19Dataset(x_valid, y_valid), \\\n",
        "                                            COVID19Dataset(x_test)\n",
        "\n",
        "# Pytorch data loader loads pytorch dataset into batches.\n",
        "train_loader = DataLoader(train_dataset, batch_size=config['batch_size'], shuffle=True, pin_memory=True)\n",
        "valid_loader = DataLoader(valid_dataset, batch_size=config['batch_size'], shuffle=True, pin_memory=True)\n",
        "test_loader = DataLoader(test_dataset, batch_size=config['batch_size'], shuffle=False, pin_memory=True)"
      ]
    },
    {
      "cell_type": "markdown",
      "metadata": {
        "id": "0OBYgjCA-YwD"
      },
      "source": [
        "# Start training!"
      ]
    },
    {
      "cell_type": "code",
      "execution_count": null,
      "metadata": {
        "colab": {
          "background_save": true,
          "base_uri": "https://localhost:8080/"
        },
        "id": "YdttVRkAfu2t",
        "outputId": "e4281f00-4835-4708-cdd7-ca0c656c3212"
      },
      "outputs": [
        {
          "output_type": "stream",
          "name": "stderr",
          "text": [
            "Epoch [1/5000]: 100%|██████████| 38/38 [00:05<00:00,  6.40it/s, loss=257]\n"
          ]
        },
        {
          "output_type": "stream",
          "name": "stdout",
          "text": [
            "Epoch [1/5000]: Train loss: 385.5393, Valid loss: 357.1875\n",
            "Saving model with loss 357.187...\n"
          ]
        },
        {
          "output_type": "stream",
          "name": "stderr",
          "text": [
            "Epoch [2/5000]: 100%|██████████| 38/38 [00:00<00:00, 119.94it/s, loss=321]\n"
          ]
        },
        {
          "output_type": "stream",
          "name": "stdout",
          "text": [
            "Epoch [2/5000]: Train loss: 363.0281, Valid loss: 349.7998\n",
            "Saving model with loss 349.800...\n"
          ]
        },
        {
          "output_type": "stream",
          "name": "stderr",
          "text": [
            "Epoch [3/5000]: 100%|██████████| 38/38 [00:00<00:00, 114.12it/s, loss=398]\n"
          ]
        },
        {
          "output_type": "stream",
          "name": "stdout",
          "text": [
            "Epoch [3/5000]: Train loss: 334.4739, Valid loss: 309.8977\n",
            "Saving model with loss 309.898...\n"
          ]
        },
        {
          "output_type": "stream",
          "name": "stderr",
          "text": [
            "Epoch [4/5000]: 100%|██████████| 38/38 [00:00<00:00, 120.10it/s, loss=191]\n"
          ]
        },
        {
          "output_type": "stream",
          "name": "stdout",
          "text": [
            "Epoch [4/5000]: Train loss: 289.6537, Valid loss: 259.7045\n",
            "Saving model with loss 259.705...\n"
          ]
        },
        {
          "output_type": "stream",
          "name": "stderr",
          "text": [
            "Epoch [5/5000]: 100%|██████████| 38/38 [00:00<00:00, 131.63it/s, loss=335]\n"
          ]
        },
        {
          "output_type": "stream",
          "name": "stdout",
          "text": [
            "Epoch [5/5000]: Train loss: 255.8000, Valid loss: 237.6643\n",
            "Saving model with loss 237.664...\n"
          ]
        },
        {
          "output_type": "stream",
          "name": "stderr",
          "text": [
            "Epoch [6/5000]: 100%|██████████| 38/38 [00:00<00:00, 122.18it/s, loss=180]\n"
          ]
        },
        {
          "output_type": "stream",
          "name": "stdout",
          "text": [
            "Epoch [6/5000]: Train loss: 236.6994, Valid loss: 230.3067\n",
            "Saving model with loss 230.307...\n"
          ]
        },
        {
          "output_type": "stream",
          "name": "stderr",
          "text": [
            "Epoch [7/5000]: 100%|██████████| 38/38 [00:00<00:00, 129.09it/s, loss=156]\n"
          ]
        },
        {
          "output_type": "stream",
          "name": "stdout",
          "text": [
            "Epoch [7/5000]: Train loss: 208.9515, Valid loss: 193.4748\n",
            "Saving model with loss 193.475...\n"
          ]
        },
        {
          "output_type": "stream",
          "name": "stderr",
          "text": [
            "Epoch [8/5000]: 100%|██████████| 38/38 [00:00<00:00, 133.43it/s, loss=194]\n"
          ]
        },
        {
          "output_type": "stream",
          "name": "stdout",
          "text": [
            "Epoch [8/5000]: Train loss: 167.0816, Valid loss: 145.3304\n",
            "Saving model with loss 145.330...\n"
          ]
        },
        {
          "output_type": "stream",
          "name": "stderr",
          "text": [
            "Epoch [9/5000]: 100%|██████████| 38/38 [00:00<00:00, 113.08it/s, loss=143]\n"
          ]
        },
        {
          "output_type": "stream",
          "name": "stdout",
          "text": [
            "Epoch [9/5000]: Train loss: 135.6806, Valid loss: 120.5487\n",
            "Saving model with loss 120.549...\n"
          ]
        },
        {
          "output_type": "stream",
          "name": "stderr",
          "text": [
            "Epoch [10/5000]: 100%|██████████| 38/38 [00:00<00:00, 116.15it/s, loss=98]\n"
          ]
        },
        {
          "output_type": "stream",
          "name": "stdout",
          "text": [
            "Epoch [10/5000]: Train loss: 122.0371, Valid loss: 103.1871\n",
            "Saving model with loss 103.187...\n"
          ]
        },
        {
          "output_type": "stream",
          "name": "stderr",
          "text": [
            "Epoch [11/5000]: 100%|██████████| 38/38 [00:00<00:00, 121.26it/s, loss=111]\n"
          ]
        },
        {
          "output_type": "stream",
          "name": "stdout",
          "text": [
            "Epoch [11/5000]: Train loss: 113.6690, Valid loss: 96.7364\n",
            "Saving model with loss 96.736...\n"
          ]
        },
        {
          "output_type": "stream",
          "name": "stderr",
          "text": [
            "Epoch [12/5000]: 100%|██████████| 38/38 [00:00<00:00, 122.78it/s, loss=116]\n"
          ]
        },
        {
          "output_type": "stream",
          "name": "stdout",
          "text": [
            "Epoch [12/5000]: Train loss: 111.2322, Valid loss: 106.9613\n"
          ]
        },
        {
          "output_type": "stream",
          "name": "stderr",
          "text": [
            "Epoch [13/5000]: 100%|██████████| 38/38 [00:00<00:00, 130.24it/s, loss=103]\n"
          ]
        },
        {
          "output_type": "stream",
          "name": "stdout",
          "text": [
            "Epoch [13/5000]: Train loss: 107.6299, Valid loss: 99.7943\n"
          ]
        },
        {
          "output_type": "stream",
          "name": "stderr",
          "text": [
            "Epoch [14/5000]: 100%|██████████| 38/38 [00:00<00:00, 124.82it/s, loss=98.5]\n"
          ]
        },
        {
          "output_type": "stream",
          "name": "stdout",
          "text": [
            "Epoch [14/5000]: Train loss: 106.5350, Valid loss: 95.2883\n",
            "Saving model with loss 95.288...\n"
          ]
        },
        {
          "output_type": "stream",
          "name": "stderr",
          "text": [
            "Epoch [15/5000]: 100%|██████████| 38/38 [00:00<00:00, 119.69it/s, loss=89.2]\n"
          ]
        },
        {
          "output_type": "stream",
          "name": "stdout",
          "text": [
            "Epoch [15/5000]: Train loss: 103.8241, Valid loss: 79.6403\n",
            "Saving model with loss 79.640...\n"
          ]
        },
        {
          "output_type": "stream",
          "name": "stderr",
          "text": [
            "Epoch [16/5000]: 100%|██████████| 38/38 [00:00<00:00, 118.53it/s, loss=83.2]\n"
          ]
        },
        {
          "output_type": "stream",
          "name": "stdout",
          "text": [
            "Epoch [16/5000]: Train loss: 99.5068, Valid loss: 92.8851\n"
          ]
        },
        {
          "output_type": "stream",
          "name": "stderr",
          "text": [
            "Epoch [17/5000]: 100%|██████████| 38/38 [00:00<00:00, 131.71it/s, loss=79.7]\n"
          ]
        },
        {
          "output_type": "stream",
          "name": "stdout",
          "text": [
            "Epoch [17/5000]: Train loss: 90.1643, Valid loss: 85.7236\n"
          ]
        },
        {
          "output_type": "stream",
          "name": "stderr",
          "text": [
            "Epoch [18/5000]: 100%|██████████| 38/38 [00:00<00:00, 120.00it/s, loss=82.4]\n"
          ]
        },
        {
          "output_type": "stream",
          "name": "stdout",
          "text": [
            "Epoch [18/5000]: Train loss: 83.2953, Valid loss: 79.0755\n",
            "Saving model with loss 79.075...\n"
          ]
        },
        {
          "output_type": "stream",
          "name": "stderr",
          "text": [
            "Epoch [19/5000]: 100%|██████████| 38/38 [00:00<00:00, 128.63it/s, loss=60.9]\n"
          ]
        },
        {
          "output_type": "stream",
          "name": "stdout",
          "text": [
            "Epoch [19/5000]: Train loss: 75.0573, Valid loss: 54.8702\n",
            "Saving model with loss 54.870...\n"
          ]
        },
        {
          "output_type": "stream",
          "name": "stderr",
          "text": [
            "Epoch [20/5000]: 100%|██████████| 38/38 [00:00<00:00, 133.88it/s, loss=49.6]\n"
          ]
        },
        {
          "output_type": "stream",
          "name": "stdout",
          "text": [
            "Epoch [20/5000]: Train loss: 64.2077, Valid loss: 46.7455\n",
            "Saving model with loss 46.745...\n"
          ]
        },
        {
          "output_type": "stream",
          "name": "stderr",
          "text": [
            "Epoch [21/5000]: 100%|██████████| 38/38 [00:00<00:00, 125.98it/s, loss=45.9]\n"
          ]
        },
        {
          "output_type": "stream",
          "name": "stdout",
          "text": [
            "Epoch [21/5000]: Train loss: 55.4890, Valid loss: 37.1844\n",
            "Saving model with loss 37.184...\n"
          ]
        },
        {
          "output_type": "stream",
          "name": "stderr",
          "text": [
            "Epoch [22/5000]: 100%|██████████| 38/38 [00:00<00:00, 125.81it/s, loss=41.9]\n"
          ]
        },
        {
          "output_type": "stream",
          "name": "stdout",
          "text": [
            "Epoch [22/5000]: Train loss: 47.8344, Valid loss: 39.5545\n"
          ]
        },
        {
          "output_type": "stream",
          "name": "stderr",
          "text": [
            "Epoch [23/5000]: 100%|██████████| 38/38 [00:00<00:00, 127.42it/s, loss=39]\n"
          ]
        },
        {
          "output_type": "stream",
          "name": "stdout",
          "text": [
            "Epoch [23/5000]: Train loss: 43.1054, Valid loss: 27.0680\n",
            "Saving model with loss 27.068...\n"
          ]
        },
        {
          "output_type": "stream",
          "name": "stderr",
          "text": [
            "Epoch [24/5000]: 100%|██████████| 38/38 [00:00<00:00, 123.01it/s, loss=39.5]\n"
          ]
        },
        {
          "output_type": "stream",
          "name": "stdout",
          "text": [
            "Epoch [24/5000]: Train loss: 40.4562, Valid loss: 23.9643\n",
            "Saving model with loss 23.964...\n"
          ]
        },
        {
          "output_type": "stream",
          "name": "stderr",
          "text": [
            "Epoch [25/5000]: 100%|██████████| 38/38 [00:00<00:00, 126.10it/s, loss=30.7]\n"
          ]
        },
        {
          "output_type": "stream",
          "name": "stdout",
          "text": [
            "Epoch [25/5000]: Train loss: 36.3020, Valid loss: 25.0770\n"
          ]
        },
        {
          "output_type": "stream",
          "name": "stderr",
          "text": [
            "Epoch [26/5000]: 100%|██████████| 38/38 [00:00<00:00, 143.35it/s, loss=31.4]\n"
          ]
        },
        {
          "output_type": "stream",
          "name": "stdout",
          "text": [
            "Epoch [26/5000]: Train loss: 33.6621, Valid loss: 18.6815\n",
            "Saving model with loss 18.682...\n"
          ]
        },
        {
          "output_type": "stream",
          "name": "stderr",
          "text": [
            "Epoch [27/5000]: 100%|██████████| 38/38 [00:00<00:00, 144.86it/s, loss=33.2]\n"
          ]
        },
        {
          "output_type": "stream",
          "name": "stdout",
          "text": [
            "Epoch [27/5000]: Train loss: 33.7348, Valid loss: 19.3861\n"
          ]
        },
        {
          "output_type": "stream",
          "name": "stderr",
          "text": [
            "Epoch [28/5000]: 100%|██████████| 38/38 [00:00<00:00, 127.98it/s, loss=31.4]\n"
          ]
        },
        {
          "output_type": "stream",
          "name": "stdout",
          "text": [
            "Epoch [28/5000]: Train loss: 34.7273, Valid loss: 19.1907\n"
          ]
        },
        {
          "output_type": "stream",
          "name": "stderr",
          "text": [
            "Epoch [29/5000]: 100%|██████████| 38/38 [00:00<00:00, 121.11it/s, loss=17.5]\n"
          ]
        },
        {
          "output_type": "stream",
          "name": "stdout",
          "text": [
            "Epoch [29/5000]: Train loss: 31.8895, Valid loss: 19.0397\n"
          ]
        },
        {
          "output_type": "stream",
          "name": "stderr",
          "text": [
            "Epoch [30/5000]: 100%|██████████| 38/38 [00:00<00:00, 120.69it/s, loss=25.8]\n"
          ]
        },
        {
          "output_type": "stream",
          "name": "stdout",
          "text": [
            "Epoch [30/5000]: Train loss: 34.2126, Valid loss: 18.9503\n"
          ]
        },
        {
          "output_type": "stream",
          "name": "stderr",
          "text": [
            "Epoch [31/5000]: 100%|██████████| 38/38 [00:00<00:00, 123.84it/s, loss=22.3]\n"
          ]
        },
        {
          "output_type": "stream",
          "name": "stdout",
          "text": [
            "Epoch [31/5000]: Train loss: 28.7192, Valid loss: 14.9659\n",
            "Saving model with loss 14.966...\n"
          ]
        },
        {
          "output_type": "stream",
          "name": "stderr",
          "text": [
            "Epoch [32/5000]: 100%|██████████| 38/38 [00:00<00:00, 110.00it/s, loss=18]\n"
          ]
        },
        {
          "output_type": "stream",
          "name": "stdout",
          "text": [
            "Epoch [32/5000]: Train loss: 24.9749, Valid loss: 11.6800\n",
            "Saving model with loss 11.680...\n"
          ]
        },
        {
          "output_type": "stream",
          "name": "stderr",
          "text": [
            "Epoch [33/5000]: 100%|██████████| 38/38 [00:00<00:00, 125.53it/s, loss=13.9]\n"
          ]
        },
        {
          "output_type": "stream",
          "name": "stdout",
          "text": [
            "Epoch [33/5000]: Train loss: 22.1657, Valid loss: 4.8398\n",
            "Saving model with loss 4.840...\n"
          ]
        },
        {
          "output_type": "stream",
          "name": "stderr",
          "text": [
            "Epoch [34/5000]: 100%|██████████| 38/38 [00:00<00:00, 116.95it/s, loss=28.7]\n"
          ]
        },
        {
          "output_type": "stream",
          "name": "stdout",
          "text": [
            "Epoch [34/5000]: Train loss: 22.5129, Valid loss: 5.2074\n"
          ]
        },
        {
          "output_type": "stream",
          "name": "stderr",
          "text": [
            "Epoch [35/5000]: 100%|██████████| 38/38 [00:00<00:00, 123.12it/s, loss=21.8]\n"
          ]
        },
        {
          "output_type": "stream",
          "name": "stdout",
          "text": [
            "Epoch [35/5000]: Train loss: 20.5390, Valid loss: 4.2249\n",
            "Saving model with loss 4.225...\n"
          ]
        },
        {
          "output_type": "stream",
          "name": "stderr",
          "text": [
            "Epoch [36/5000]: 100%|██████████| 38/38 [00:00<00:00, 112.41it/s, loss=15]\n"
          ]
        },
        {
          "output_type": "stream",
          "name": "stdout",
          "text": [
            "Epoch [36/5000]: Train loss: 17.9259, Valid loss: 3.1406\n",
            "Saving model with loss 3.141...\n"
          ]
        },
        {
          "output_type": "stream",
          "name": "stderr",
          "text": [
            "Epoch [37/5000]: 100%|██████████| 38/38 [00:00<00:00, 113.81it/s, loss=18.1]\n"
          ]
        },
        {
          "output_type": "stream",
          "name": "stdout",
          "text": [
            "Epoch [37/5000]: Train loss: 17.7503, Valid loss: 2.4471\n",
            "Saving model with loss 2.447...\n"
          ]
        },
        {
          "output_type": "stream",
          "name": "stderr",
          "text": [
            "Epoch [38/5000]: 100%|██████████| 38/38 [00:00<00:00, 123.93it/s, loss=20]\n"
          ]
        },
        {
          "output_type": "stream",
          "name": "stdout",
          "text": [
            "Epoch [38/5000]: Train loss: 17.9603, Valid loss: 2.2528\n",
            "Saving model with loss 2.253...\n"
          ]
        },
        {
          "output_type": "stream",
          "name": "stderr",
          "text": [
            "Epoch [39/5000]: 100%|██████████| 38/38 [00:00<00:00, 120.73it/s, loss=15.3]\n"
          ]
        },
        {
          "output_type": "stream",
          "name": "stdout",
          "text": [
            "Epoch [39/5000]: Train loss: 16.3906, Valid loss: 1.9273\n",
            "Saving model with loss 1.927...\n"
          ]
        },
        {
          "output_type": "stream",
          "name": "stderr",
          "text": [
            "Epoch [40/5000]: 100%|██████████| 38/38 [00:00<00:00, 125.48it/s, loss=16.5]\n"
          ]
        },
        {
          "output_type": "stream",
          "name": "stdout",
          "text": [
            "Epoch [40/5000]: Train loss: 17.8084, Valid loss: 1.7517\n",
            "Saving model with loss 1.752...\n"
          ]
        },
        {
          "output_type": "stream",
          "name": "stderr",
          "text": [
            "Epoch [41/5000]: 100%|██████████| 38/38 [00:00<00:00, 131.48it/s, loss=20]\n"
          ]
        },
        {
          "output_type": "stream",
          "name": "stdout",
          "text": [
            "Epoch [41/5000]: Train loss: 17.1264, Valid loss: 1.9358\n"
          ]
        },
        {
          "output_type": "stream",
          "name": "stderr",
          "text": [
            "Epoch [42/5000]: 100%|██████████| 38/38 [00:00<00:00, 129.39it/s, loss=9.68]\n"
          ]
        },
        {
          "output_type": "stream",
          "name": "stdout",
          "text": [
            "Epoch [42/5000]: Train loss: 17.2435, Valid loss: 1.4887\n",
            "Saving model with loss 1.489...\n"
          ]
        },
        {
          "output_type": "stream",
          "name": "stderr",
          "text": [
            "Epoch [43/5000]: 100%|██████████| 38/38 [00:00<00:00, 125.69it/s, loss=41.2]\n"
          ]
        },
        {
          "output_type": "stream",
          "name": "stdout",
          "text": [
            "Epoch [43/5000]: Train loss: 18.9235, Valid loss: 1.9752\n"
          ]
        },
        {
          "output_type": "stream",
          "name": "stderr",
          "text": [
            "Epoch [44/5000]: 100%|██████████| 38/38 [00:00<00:00, 118.10it/s, loss=12]\n"
          ]
        },
        {
          "output_type": "stream",
          "name": "stdout",
          "text": [
            "Epoch [44/5000]: Train loss: 16.0188, Valid loss: 1.6262\n"
          ]
        },
        {
          "output_type": "stream",
          "name": "stderr",
          "text": [
            "Epoch [45/5000]: 100%|██████████| 38/38 [00:00<00:00, 124.94it/s, loss=21.5]\n"
          ]
        },
        {
          "output_type": "stream",
          "name": "stdout",
          "text": [
            "Epoch [45/5000]: Train loss: 17.3033, Valid loss: 2.4995\n"
          ]
        },
        {
          "output_type": "stream",
          "name": "stderr",
          "text": [
            "Epoch [46/5000]: 100%|██████████| 38/38 [00:00<00:00, 120.40it/s, loss=14.5]\n"
          ]
        },
        {
          "output_type": "stream",
          "name": "stdout",
          "text": [
            "Epoch [46/5000]: Train loss: 14.7609, Valid loss: 1.4063\n",
            "Saving model with loss 1.406...\n"
          ]
        },
        {
          "output_type": "stream",
          "name": "stderr",
          "text": [
            "Epoch [47/5000]: 100%|██████████| 38/38 [00:00<00:00, 130.05it/s, loss=8.2]\n"
          ]
        },
        {
          "output_type": "stream",
          "name": "stdout",
          "text": [
            "Epoch [47/5000]: Train loss: 15.7774, Valid loss: 2.7411\n"
          ]
        },
        {
          "output_type": "stream",
          "name": "stderr",
          "text": [
            "Epoch [48/5000]: 100%|██████████| 38/38 [00:00<00:00, 125.87it/s, loss=21.3]\n"
          ]
        },
        {
          "output_type": "stream",
          "name": "stdout",
          "text": [
            "Epoch [48/5000]: Train loss: 16.6632, Valid loss: 1.4400\n"
          ]
        },
        {
          "output_type": "stream",
          "name": "stderr",
          "text": [
            "Epoch [49/5000]: 100%|██████████| 38/38 [00:00<00:00, 131.60it/s, loss=11.1]\n"
          ]
        },
        {
          "output_type": "stream",
          "name": "stdout",
          "text": [
            "Epoch [49/5000]: Train loss: 14.6839, Valid loss: 1.4911\n"
          ]
        },
        {
          "output_type": "stream",
          "name": "stderr",
          "text": [
            "Epoch [50/5000]: 100%|██████████| 38/38 [00:00<00:00, 125.85it/s, loss=14.6]\n"
          ]
        },
        {
          "output_type": "stream",
          "name": "stdout",
          "text": [
            "Epoch [50/5000]: Train loss: 16.1917, Valid loss: 1.9646\n"
          ]
        },
        {
          "output_type": "stream",
          "name": "stderr",
          "text": [
            "Epoch [51/5000]: 100%|██████████| 38/38 [00:00<00:00, 124.84it/s, loss=15.7]\n"
          ]
        },
        {
          "output_type": "stream",
          "name": "stdout",
          "text": [
            "Epoch [51/5000]: Train loss: 15.6810, Valid loss: 2.9032\n"
          ]
        },
        {
          "output_type": "stream",
          "name": "stderr",
          "text": [
            "Epoch [52/5000]: 100%|██████████| 38/38 [00:00<00:00, 126.13it/s, loss=14.7]\n"
          ]
        },
        {
          "output_type": "stream",
          "name": "stdout",
          "text": [
            "Epoch [52/5000]: Train loss: 15.5936, Valid loss: 2.0108\n"
          ]
        },
        {
          "output_type": "stream",
          "name": "stderr",
          "text": [
            "Epoch [53/5000]: 100%|██████████| 38/38 [00:00<00:00, 127.79it/s, loss=24.6]\n"
          ]
        },
        {
          "output_type": "stream",
          "name": "stdout",
          "text": [
            "Epoch [53/5000]: Train loss: 15.5171, Valid loss: 2.3590\n"
          ]
        },
        {
          "output_type": "stream",
          "name": "stderr",
          "text": [
            "Epoch [54/5000]: 100%|██████████| 38/38 [00:00<00:00, 124.69it/s, loss=20.3]\n"
          ]
        },
        {
          "output_type": "stream",
          "name": "stdout",
          "text": [
            "Epoch [54/5000]: Train loss: 14.8705, Valid loss: 1.9917\n"
          ]
        },
        {
          "output_type": "stream",
          "name": "stderr",
          "text": [
            "Epoch [55/5000]: 100%|██████████| 38/38 [00:00<00:00, 118.35it/s, loss=11.3]\n"
          ]
        },
        {
          "output_type": "stream",
          "name": "stdout",
          "text": [
            "Epoch [55/5000]: Train loss: 14.3295, Valid loss: 2.3554\n"
          ]
        },
        {
          "output_type": "stream",
          "name": "stderr",
          "text": [
            "Epoch [56/5000]: 100%|██████████| 38/38 [00:00<00:00, 121.76it/s, loss=13.1]\n"
          ]
        },
        {
          "output_type": "stream",
          "name": "stdout",
          "text": [
            "Epoch [56/5000]: Train loss: 15.6071, Valid loss: 1.4294\n"
          ]
        },
        {
          "output_type": "stream",
          "name": "stderr",
          "text": [
            "Epoch [57/5000]: 100%|██████████| 38/38 [00:00<00:00, 124.49it/s, loss=11.3]\n"
          ]
        },
        {
          "output_type": "stream",
          "name": "stdout",
          "text": [
            "Epoch [57/5000]: Train loss: 15.8836, Valid loss: 1.4407\n"
          ]
        },
        {
          "output_type": "stream",
          "name": "stderr",
          "text": [
            "Epoch [58/5000]: 100%|██████████| 38/38 [00:00<00:00, 122.53it/s, loss=16.7]\n"
          ]
        },
        {
          "output_type": "stream",
          "name": "stdout",
          "text": [
            "Epoch [58/5000]: Train loss: 14.8777, Valid loss: 1.9906\n"
          ]
        },
        {
          "output_type": "stream",
          "name": "stderr",
          "text": [
            "Epoch [59/5000]: 100%|██████████| 38/38 [00:00<00:00, 123.78it/s, loss=9.85]\n"
          ]
        },
        {
          "output_type": "stream",
          "name": "stdout",
          "text": [
            "Epoch [59/5000]: Train loss: 15.5837, Valid loss: 1.5637\n"
          ]
        },
        {
          "output_type": "stream",
          "name": "stderr",
          "text": [
            "Epoch [60/5000]: 100%|██████████| 38/38 [00:00<00:00, 128.52it/s, loss=11.7]\n"
          ]
        },
        {
          "output_type": "stream",
          "name": "stdout",
          "text": [
            "Epoch [60/5000]: Train loss: 14.4928, Valid loss: 2.1489\n"
          ]
        },
        {
          "output_type": "stream",
          "name": "stderr",
          "text": [
            "Epoch [61/5000]: 100%|██████████| 38/38 [00:00<00:00, 127.67it/s, loss=12.8]\n"
          ]
        },
        {
          "output_type": "stream",
          "name": "stdout",
          "text": [
            "Epoch [61/5000]: Train loss: 15.5886, Valid loss: 1.7060\n"
          ]
        },
        {
          "output_type": "stream",
          "name": "stderr",
          "text": [
            "Epoch [62/5000]: 100%|██████████| 38/38 [00:00<00:00, 129.56it/s, loss=17.9]\n"
          ]
        },
        {
          "output_type": "stream",
          "name": "stdout",
          "text": [
            "Epoch [62/5000]: Train loss: 16.7960, Valid loss: 2.0040\n"
          ]
        },
        {
          "output_type": "stream",
          "name": "stderr",
          "text": [
            "Epoch [63/5000]: 100%|██████████| 38/38 [00:00<00:00, 125.81it/s, loss=12.5]\n"
          ]
        },
        {
          "output_type": "stream",
          "name": "stdout",
          "text": [
            "Epoch [63/5000]: Train loss: 15.1008, Valid loss: 1.4061\n",
            "Saving model with loss 1.406...\n"
          ]
        },
        {
          "output_type": "stream",
          "name": "stderr",
          "text": [
            "Epoch [64/5000]: 100%|██████████| 38/38 [00:00<00:00, 128.15it/s, loss=8.61]\n"
          ]
        },
        {
          "output_type": "stream",
          "name": "stdout",
          "text": [
            "Epoch [64/5000]: Train loss: 15.1063, Valid loss: 1.7205\n"
          ]
        },
        {
          "output_type": "stream",
          "name": "stderr",
          "text": [
            "Epoch [65/5000]: 100%|██████████| 38/38 [00:00<00:00, 126.88it/s, loss=16]\n"
          ]
        },
        {
          "output_type": "stream",
          "name": "stdout",
          "text": [
            "Epoch [65/5000]: Train loss: 14.3867, Valid loss: 1.4101\n"
          ]
        },
        {
          "output_type": "stream",
          "name": "stderr",
          "text": [
            "Epoch [66/5000]: 100%|██████████| 38/38 [00:00<00:00, 129.12it/s, loss=19.1]\n"
          ]
        },
        {
          "output_type": "stream",
          "name": "stdout",
          "text": [
            "Epoch [66/5000]: Train loss: 15.2031, Valid loss: 4.7209\n"
          ]
        },
        {
          "output_type": "stream",
          "name": "stderr",
          "text": [
            "Epoch [67/5000]: 100%|██████████| 38/38 [00:00<00:00, 121.27it/s, loss=17.4]\n"
          ]
        },
        {
          "output_type": "stream",
          "name": "stdout",
          "text": [
            "Epoch [67/5000]: Train loss: 15.7154, Valid loss: 1.3818\n",
            "Saving model with loss 1.382...\n"
          ]
        },
        {
          "output_type": "stream",
          "name": "stderr",
          "text": [
            "Epoch [68/5000]: 100%|██████████| 38/38 [00:00<00:00, 118.27it/s, loss=18.5]\n"
          ]
        },
        {
          "output_type": "stream",
          "name": "stdout",
          "text": [
            "Epoch [68/5000]: Train loss: 15.1403, Valid loss: 2.2180\n"
          ]
        },
        {
          "output_type": "stream",
          "name": "stderr",
          "text": [
            "Epoch [69/5000]: 100%|██████████| 38/38 [00:00<00:00, 125.74it/s, loss=18.3]\n"
          ]
        },
        {
          "output_type": "stream",
          "name": "stdout",
          "text": [
            "Epoch [69/5000]: Train loss: 14.4765, Valid loss: 2.4348\n"
          ]
        },
        {
          "output_type": "stream",
          "name": "stderr",
          "text": [
            "Epoch [70/5000]: 100%|██████████| 38/38 [00:00<00:00, 136.44it/s, loss=13]\n"
          ]
        },
        {
          "output_type": "stream",
          "name": "stdout",
          "text": [
            "Epoch [70/5000]: Train loss: 15.1724, Valid loss: 1.7496\n"
          ]
        },
        {
          "output_type": "stream",
          "name": "stderr",
          "text": [
            "Epoch [71/5000]: 100%|██████████| 38/38 [00:00<00:00, 141.53it/s, loss=5.93]\n"
          ]
        },
        {
          "output_type": "stream",
          "name": "stdout",
          "text": [
            "Epoch [71/5000]: Train loss: 13.5461, Valid loss: 4.1182\n"
          ]
        },
        {
          "output_type": "stream",
          "name": "stderr",
          "text": [
            "Epoch [72/5000]: 100%|██████████| 38/38 [00:00<00:00, 140.76it/s, loss=17.7]\n"
          ]
        },
        {
          "output_type": "stream",
          "name": "stdout",
          "text": [
            "Epoch [72/5000]: Train loss: 15.6378, Valid loss: 1.1578\n",
            "Saving model with loss 1.158...\n"
          ]
        },
        {
          "output_type": "stream",
          "name": "stderr",
          "text": [
            "Epoch [73/5000]: 100%|██████████| 38/38 [00:00<00:00, 143.13it/s, loss=6.43]\n"
          ]
        },
        {
          "output_type": "stream",
          "name": "stdout",
          "text": [
            "Epoch [73/5000]: Train loss: 14.7575, Valid loss: 2.0237\n"
          ]
        },
        {
          "output_type": "stream",
          "name": "stderr",
          "text": [
            "Epoch [74/5000]: 100%|██████████| 38/38 [00:00<00:00, 117.53it/s, loss=8.65]\n"
          ]
        },
        {
          "output_type": "stream",
          "name": "stdout",
          "text": [
            "Epoch [74/5000]: Train loss: 13.8661, Valid loss: 1.1995\n"
          ]
        },
        {
          "output_type": "stream",
          "name": "stderr",
          "text": [
            "Epoch [75/5000]: 100%|██████████| 38/38 [00:00<00:00, 141.82it/s, loss=12.9]\n"
          ]
        },
        {
          "output_type": "stream",
          "name": "stdout",
          "text": [
            "Epoch [75/5000]: Train loss: 14.0312, Valid loss: 2.6051\n"
          ]
        },
        {
          "output_type": "stream",
          "name": "stderr",
          "text": [
            "Epoch [76/5000]: 100%|██████████| 38/38 [00:00<00:00, 145.94it/s, loss=9.12]\n"
          ]
        },
        {
          "output_type": "stream",
          "name": "stdout",
          "text": [
            "Epoch [76/5000]: Train loss: 14.0137, Valid loss: 1.3807\n"
          ]
        },
        {
          "output_type": "stream",
          "name": "stderr",
          "text": [
            "Epoch [77/5000]: 100%|██████████| 38/38 [00:00<00:00, 141.76it/s, loss=9.61]\n"
          ]
        },
        {
          "output_type": "stream",
          "name": "stdout",
          "text": [
            "Epoch [77/5000]: Train loss: 14.2736, Valid loss: 1.1086\n",
            "Saving model with loss 1.109...\n"
          ]
        },
        {
          "output_type": "stream",
          "name": "stderr",
          "text": [
            "Epoch [78/5000]: 100%|██████████| 38/38 [00:00<00:00, 147.21it/s, loss=8]\n"
          ]
        },
        {
          "output_type": "stream",
          "name": "stdout",
          "text": [
            "Epoch [78/5000]: Train loss: 13.2707, Valid loss: 1.3388\n"
          ]
        },
        {
          "output_type": "stream",
          "name": "stderr",
          "text": [
            "Epoch [79/5000]: 100%|██████████| 38/38 [00:00<00:00, 138.00it/s, loss=20.6]\n"
          ]
        },
        {
          "output_type": "stream",
          "name": "stdout",
          "text": [
            "Epoch [79/5000]: Train loss: 13.9327, Valid loss: 1.2454\n"
          ]
        },
        {
          "output_type": "stream",
          "name": "stderr",
          "text": [
            "Epoch [80/5000]: 100%|██████████| 38/38 [00:00<00:00, 126.58it/s, loss=8.8]\n"
          ]
        },
        {
          "output_type": "stream",
          "name": "stdout",
          "text": [
            "Epoch [80/5000]: Train loss: 13.1699, Valid loss: 3.2753\n"
          ]
        },
        {
          "output_type": "stream",
          "name": "stderr",
          "text": [
            "Epoch [81/5000]: 100%|██████████| 38/38 [00:00<00:00, 119.49it/s, loss=18.5]\n"
          ]
        },
        {
          "output_type": "stream",
          "name": "stdout",
          "text": [
            "Epoch [81/5000]: Train loss: 13.4412, Valid loss: 4.6453\n"
          ]
        },
        {
          "output_type": "stream",
          "name": "stderr",
          "text": [
            "Epoch [82/5000]: 100%|██████████| 38/38 [00:00<00:00, 115.95it/s, loss=20]\n"
          ]
        },
        {
          "output_type": "stream",
          "name": "stdout",
          "text": [
            "Epoch [82/5000]: Train loss: 14.3878, Valid loss: 1.1226\n"
          ]
        },
        {
          "output_type": "stream",
          "name": "stderr",
          "text": [
            "Epoch [83/5000]: 100%|██████████| 38/38 [00:00<00:00, 132.33it/s, loss=11.7]\n"
          ]
        },
        {
          "output_type": "stream",
          "name": "stdout",
          "text": [
            "Epoch [83/5000]: Train loss: 14.1851, Valid loss: 1.0849\n",
            "Saving model with loss 1.085...\n"
          ]
        },
        {
          "output_type": "stream",
          "name": "stderr",
          "text": [
            "Epoch [84/5000]: 100%|██████████| 38/38 [00:00<00:00, 132.30it/s, loss=11.5]\n"
          ]
        },
        {
          "output_type": "stream",
          "name": "stdout",
          "text": [
            "Epoch [84/5000]: Train loss: 15.0869, Valid loss: 1.4014\n"
          ]
        },
        {
          "output_type": "stream",
          "name": "stderr",
          "text": [
            "Epoch [85/5000]: 100%|██████████| 38/38 [00:00<00:00, 140.08it/s, loss=12.7]\n"
          ]
        },
        {
          "output_type": "stream",
          "name": "stdout",
          "text": [
            "Epoch [85/5000]: Train loss: 13.4136, Valid loss: 2.6517\n"
          ]
        },
        {
          "output_type": "stream",
          "name": "stderr",
          "text": [
            "Epoch [86/5000]: 100%|██████████| 38/38 [00:00<00:00, 117.98it/s, loss=12.2]\n"
          ]
        },
        {
          "output_type": "stream",
          "name": "stdout",
          "text": [
            "Epoch [86/5000]: Train loss: 13.6542, Valid loss: 1.2146\n"
          ]
        },
        {
          "output_type": "stream",
          "name": "stderr",
          "text": [
            "Epoch [87/5000]: 100%|██████████| 38/38 [00:00<00:00, 115.12it/s, loss=7.6]\n"
          ]
        },
        {
          "output_type": "stream",
          "name": "stdout",
          "text": [
            "Epoch [87/5000]: Train loss: 12.1843, Valid loss: 1.2947\n"
          ]
        },
        {
          "output_type": "stream",
          "name": "stderr",
          "text": [
            "Epoch [88/5000]: 100%|██████████| 38/38 [00:00<00:00, 123.55it/s, loss=14.2]\n"
          ]
        },
        {
          "output_type": "stream",
          "name": "stdout",
          "text": [
            "Epoch [88/5000]: Train loss: 12.9538, Valid loss: 2.6571\n"
          ]
        },
        {
          "output_type": "stream",
          "name": "stderr",
          "text": [
            "Epoch [89/5000]: 100%|██████████| 38/38 [00:00<00:00, 110.00it/s, loss=13.3]\n"
          ]
        },
        {
          "output_type": "stream",
          "name": "stdout",
          "text": [
            "Epoch [89/5000]: Train loss: 12.1074, Valid loss: 1.0511\n",
            "Saving model with loss 1.051...\n"
          ]
        },
        {
          "output_type": "stream",
          "name": "stderr",
          "text": [
            "Epoch [90/5000]: 100%|██████████| 38/38 [00:00<00:00, 121.42it/s, loss=12.3]\n"
          ]
        },
        {
          "output_type": "stream",
          "name": "stdout",
          "text": [
            "Epoch [90/5000]: Train loss: 12.6758, Valid loss: 1.1653\n"
          ]
        },
        {
          "output_type": "stream",
          "name": "stderr",
          "text": [
            "Epoch [91/5000]: 100%|██████████| 38/38 [00:00<00:00, 130.71it/s, loss=9.6]\n"
          ]
        },
        {
          "output_type": "stream",
          "name": "stdout",
          "text": [
            "Epoch [91/5000]: Train loss: 11.7182, Valid loss: 1.8358\n"
          ]
        },
        {
          "output_type": "stream",
          "name": "stderr",
          "text": [
            "Epoch [92/5000]: 100%|██████████| 38/38 [00:00<00:00, 121.71it/s, loss=10.5]\n"
          ]
        },
        {
          "output_type": "stream",
          "name": "stdout",
          "text": [
            "Epoch [92/5000]: Train loss: 12.9125, Valid loss: 1.2283\n"
          ]
        },
        {
          "output_type": "stream",
          "name": "stderr",
          "text": [
            "Epoch [93/5000]: 100%|██████████| 38/38 [00:00<00:00, 128.11it/s, loss=11.3]\n"
          ]
        },
        {
          "output_type": "stream",
          "name": "stdout",
          "text": [
            "Epoch [93/5000]: Train loss: 11.0706, Valid loss: 0.9921\n",
            "Saving model with loss 0.992...\n"
          ]
        },
        {
          "output_type": "stream",
          "name": "stderr",
          "text": [
            "Epoch [94/5000]: 100%|██████████| 38/38 [00:00<00:00, 129.99it/s, loss=15]\n"
          ]
        },
        {
          "output_type": "stream",
          "name": "stdout",
          "text": [
            "Epoch [94/5000]: Train loss: 12.7567, Valid loss: 1.8606\n"
          ]
        },
        {
          "output_type": "stream",
          "name": "stderr",
          "text": [
            "Epoch [95/5000]: 100%|██████████| 38/38 [00:00<00:00, 126.84it/s, loss=12.5]\n"
          ]
        },
        {
          "output_type": "stream",
          "name": "stdout",
          "text": [
            "Epoch [95/5000]: Train loss: 13.9078, Valid loss: 1.5368\n"
          ]
        },
        {
          "output_type": "stream",
          "name": "stderr",
          "text": [
            "Epoch [96/5000]: 100%|██████████| 38/38 [00:00<00:00, 132.55it/s, loss=13.4]\n"
          ]
        },
        {
          "output_type": "stream",
          "name": "stdout",
          "text": [
            "Epoch [96/5000]: Train loss: 12.3536, Valid loss: 1.1274\n"
          ]
        },
        {
          "output_type": "stream",
          "name": "stderr",
          "text": [
            "Epoch [97/5000]: 100%|██████████| 38/38 [00:00<00:00, 132.38it/s, loss=9.35]\n"
          ]
        },
        {
          "output_type": "stream",
          "name": "stdout",
          "text": [
            "Epoch [97/5000]: Train loss: 11.8240, Valid loss: 1.5809\n"
          ]
        },
        {
          "output_type": "stream",
          "name": "stderr",
          "text": [
            "Epoch [98/5000]: 100%|██████████| 38/38 [00:00<00:00, 128.09it/s, loss=12.3]\n"
          ]
        },
        {
          "output_type": "stream",
          "name": "stdout",
          "text": [
            "Epoch [98/5000]: Train loss: 12.2889, Valid loss: 1.0202\n"
          ]
        },
        {
          "output_type": "stream",
          "name": "stderr",
          "text": [
            "Epoch [99/5000]: 100%|██████████| 38/38 [00:00<00:00, 130.88it/s, loss=8.66]\n"
          ]
        },
        {
          "output_type": "stream",
          "name": "stdout",
          "text": [
            "Epoch [99/5000]: Train loss: 12.3652, Valid loss: 1.0082\n"
          ]
        },
        {
          "output_type": "stream",
          "name": "stderr",
          "text": [
            "Epoch [100/5000]: 100%|██████████| 38/38 [00:00<00:00, 129.20it/s, loss=13.3]\n"
          ]
        },
        {
          "output_type": "stream",
          "name": "stdout",
          "text": [
            "Epoch [100/5000]: Train loss: 12.9141, Valid loss: 1.6088\n"
          ]
        },
        {
          "output_type": "stream",
          "name": "stderr",
          "text": [
            "Epoch [101/5000]: 100%|██████████| 38/38 [00:00<00:00, 134.75it/s, loss=8.44]\n"
          ]
        },
        {
          "output_type": "stream",
          "name": "stdout",
          "text": [
            "Epoch [101/5000]: Train loss: 11.8399, Valid loss: 1.0639\n"
          ]
        },
        {
          "output_type": "stream",
          "name": "stderr",
          "text": [
            "Epoch [102/5000]: 100%|██████████| 38/38 [00:00<00:00, 128.85it/s, loss=11.6]\n"
          ]
        },
        {
          "output_type": "stream",
          "name": "stdout",
          "text": [
            "Epoch [102/5000]: Train loss: 13.3390, Valid loss: 1.0826\n"
          ]
        },
        {
          "output_type": "stream",
          "name": "stderr",
          "text": [
            "Epoch [103/5000]: 100%|██████████| 38/38 [00:00<00:00, 126.79it/s, loss=13.6]\n"
          ]
        },
        {
          "output_type": "stream",
          "name": "stdout",
          "text": [
            "Epoch [103/5000]: Train loss: 12.4327, Valid loss: 1.5731\n"
          ]
        },
        {
          "output_type": "stream",
          "name": "stderr",
          "text": [
            "Epoch [104/5000]: 100%|██████████| 38/38 [00:00<00:00, 134.86it/s, loss=13.3]\n"
          ]
        },
        {
          "output_type": "stream",
          "name": "stdout",
          "text": [
            "Epoch [104/5000]: Train loss: 11.5225, Valid loss: 1.1222\n"
          ]
        },
        {
          "output_type": "stream",
          "name": "stderr",
          "text": [
            "Epoch [105/5000]: 100%|██████████| 38/38 [00:00<00:00, 136.05it/s, loss=30.8]\n"
          ]
        },
        {
          "output_type": "stream",
          "name": "stdout",
          "text": [
            "Epoch [105/5000]: Train loss: 12.7287, Valid loss: 1.7443\n"
          ]
        },
        {
          "output_type": "stream",
          "name": "stderr",
          "text": [
            "Epoch [106/5000]: 100%|██████████| 38/38 [00:00<00:00, 141.09it/s, loss=12.3]\n"
          ]
        },
        {
          "output_type": "stream",
          "name": "stdout",
          "text": [
            "Epoch [106/5000]: Train loss: 11.3706, Valid loss: 0.9993\n"
          ]
        },
        {
          "output_type": "stream",
          "name": "stderr",
          "text": [
            "Epoch [107/5000]: 100%|██████████| 38/38 [00:00<00:00, 139.56it/s, loss=12.8]\n"
          ]
        },
        {
          "output_type": "stream",
          "name": "stdout",
          "text": [
            "Epoch [107/5000]: Train loss: 12.0454, Valid loss: 2.2641\n"
          ]
        },
        {
          "output_type": "stream",
          "name": "stderr",
          "text": [
            "Epoch [108/5000]: 100%|██████████| 38/38 [00:00<00:00, 135.73it/s, loss=12.6]\n"
          ]
        },
        {
          "output_type": "stream",
          "name": "stdout",
          "text": [
            "Epoch [108/5000]: Train loss: 12.0827, Valid loss: 1.0884\n"
          ]
        },
        {
          "output_type": "stream",
          "name": "stderr",
          "text": [
            "Epoch [109/5000]: 100%|██████████| 38/38 [00:00<00:00, 139.38it/s, loss=9.33]\n"
          ]
        },
        {
          "output_type": "stream",
          "name": "stdout",
          "text": [
            "Epoch [109/5000]: Train loss: 11.8252, Valid loss: 1.0725\n"
          ]
        },
        {
          "output_type": "stream",
          "name": "stderr",
          "text": [
            "Epoch [110/5000]: 100%|██████████| 38/38 [00:00<00:00, 131.32it/s, loss=8.36]\n"
          ]
        },
        {
          "output_type": "stream",
          "name": "stdout",
          "text": [
            "Epoch [110/5000]: Train loss: 12.0922, Valid loss: 1.9277\n"
          ]
        },
        {
          "output_type": "stream",
          "name": "stderr",
          "text": [
            "Epoch [111/5000]: 100%|██████████| 38/38 [00:00<00:00, 134.63it/s, loss=11.2]\n"
          ]
        },
        {
          "output_type": "stream",
          "name": "stdout",
          "text": [
            "Epoch [111/5000]: Train loss: 11.4671, Valid loss: 1.1263\n"
          ]
        },
        {
          "output_type": "stream",
          "name": "stderr",
          "text": [
            "Epoch [112/5000]: 100%|██████████| 38/38 [00:00<00:00, 126.86it/s, loss=14.4]\n"
          ]
        },
        {
          "output_type": "stream",
          "name": "stdout",
          "text": [
            "Epoch [112/5000]: Train loss: 12.2362, Valid loss: 1.1244\n"
          ]
        },
        {
          "output_type": "stream",
          "name": "stderr",
          "text": [
            "Epoch [113/5000]: 100%|██████████| 38/38 [00:00<00:00, 136.32it/s, loss=10.7]\n"
          ]
        },
        {
          "output_type": "stream",
          "name": "stdout",
          "text": [
            "Epoch [113/5000]: Train loss: 11.3592, Valid loss: 0.9717\n",
            "Saving model with loss 0.972...\n"
          ]
        },
        {
          "output_type": "stream",
          "name": "stderr",
          "text": [
            "Epoch [114/5000]: 100%|██████████| 38/38 [00:00<00:00, 119.80it/s, loss=30.2]\n"
          ]
        },
        {
          "output_type": "stream",
          "name": "stdout",
          "text": [
            "Epoch [114/5000]: Train loss: 11.6747, Valid loss: 1.3433\n"
          ]
        },
        {
          "output_type": "stream",
          "name": "stderr",
          "text": [
            "Epoch [115/5000]: 100%|██████████| 38/38 [00:00<00:00, 118.30it/s, loss=11.5]\n"
          ]
        },
        {
          "output_type": "stream",
          "name": "stdout",
          "text": [
            "Epoch [115/5000]: Train loss: 12.0526, Valid loss: 1.3852\n"
          ]
        },
        {
          "output_type": "stream",
          "name": "stderr",
          "text": [
            "Epoch [116/5000]: 100%|██████████| 38/38 [00:00<00:00, 125.75it/s, loss=12.6]\n"
          ]
        },
        {
          "output_type": "stream",
          "name": "stdout",
          "text": [
            "Epoch [116/5000]: Train loss: 11.1606, Valid loss: 1.5046\n"
          ]
        },
        {
          "output_type": "stream",
          "name": "stderr",
          "text": [
            "Epoch [117/5000]: 100%|██████████| 38/38 [00:00<00:00, 119.53it/s, loss=9.66]\n"
          ]
        },
        {
          "output_type": "stream",
          "name": "stdout",
          "text": [
            "Epoch [117/5000]: Train loss: 11.6862, Valid loss: 1.6398\n"
          ]
        },
        {
          "output_type": "stream",
          "name": "stderr",
          "text": [
            "Epoch [118/5000]: 100%|██████████| 38/38 [00:00<00:00, 123.45it/s, loss=15.6]\n"
          ]
        },
        {
          "output_type": "stream",
          "name": "stdout",
          "text": [
            "Epoch [118/5000]: Train loss: 12.1791, Valid loss: 1.0047\n"
          ]
        },
        {
          "output_type": "stream",
          "name": "stderr",
          "text": [
            "Epoch [119/5000]: 100%|██████████| 38/38 [00:00<00:00, 138.94it/s, loss=17.2]\n"
          ]
        },
        {
          "output_type": "stream",
          "name": "stdout",
          "text": [
            "Epoch [119/5000]: Train loss: 12.7508, Valid loss: 0.9988\n"
          ]
        },
        {
          "output_type": "stream",
          "name": "stderr",
          "text": [
            "Epoch [120/5000]: 100%|██████████| 38/38 [00:00<00:00, 131.16it/s, loss=29.7]\n"
          ]
        },
        {
          "output_type": "stream",
          "name": "stdout",
          "text": [
            "Epoch [120/5000]: Train loss: 11.9241, Valid loss: 0.9829\n"
          ]
        },
        {
          "output_type": "stream",
          "name": "stderr",
          "text": [
            "Epoch [121/5000]: 100%|██████████| 38/38 [00:00<00:00, 125.01it/s, loss=11]\n"
          ]
        },
        {
          "output_type": "stream",
          "name": "stdout",
          "text": [
            "Epoch [121/5000]: Train loss: 11.1756, Valid loss: 1.2844\n"
          ]
        },
        {
          "output_type": "stream",
          "name": "stderr",
          "text": [
            "Epoch [122/5000]: 100%|██████████| 38/38 [00:00<00:00, 126.82it/s, loss=19.3]\n"
          ]
        },
        {
          "output_type": "stream",
          "name": "stdout",
          "text": [
            "Epoch [122/5000]: Train loss: 12.3009, Valid loss: 1.4464\n"
          ]
        },
        {
          "output_type": "stream",
          "name": "stderr",
          "text": [
            "Epoch [123/5000]: 100%|██████████| 38/38 [00:00<00:00, 149.21it/s, loss=8.51]\n"
          ]
        },
        {
          "output_type": "stream",
          "name": "stdout",
          "text": [
            "Epoch [123/5000]: Train loss: 12.1375, Valid loss: 1.3669\n"
          ]
        },
        {
          "output_type": "stream",
          "name": "stderr",
          "text": [
            "Epoch [124/5000]: 100%|██████████| 38/38 [00:00<00:00, 149.43it/s, loss=11.4]\n"
          ]
        },
        {
          "output_type": "stream",
          "name": "stdout",
          "text": [
            "Epoch [124/5000]: Train loss: 11.8224, Valid loss: 1.1741\n"
          ]
        },
        {
          "output_type": "stream",
          "name": "stderr",
          "text": [
            "Epoch [125/5000]: 100%|██████████| 38/38 [00:00<00:00, 138.83it/s, loss=14.9]\n"
          ]
        },
        {
          "output_type": "stream",
          "name": "stdout",
          "text": [
            "Epoch [125/5000]: Train loss: 11.8676, Valid loss: 1.0453\n"
          ]
        },
        {
          "output_type": "stream",
          "name": "stderr",
          "text": [
            "Epoch [126/5000]: 100%|██████████| 38/38 [00:00<00:00, 125.13it/s, loss=10]\n"
          ]
        },
        {
          "output_type": "stream",
          "name": "stdout",
          "text": [
            "Epoch [126/5000]: Train loss: 11.4549, Valid loss: 1.8916\n"
          ]
        },
        {
          "output_type": "stream",
          "name": "stderr",
          "text": [
            "Epoch [127/5000]: 100%|██████████| 38/38 [00:00<00:00, 132.71it/s, loss=14.2]\n"
          ]
        },
        {
          "output_type": "stream",
          "name": "stdout",
          "text": [
            "Epoch [127/5000]: Train loss: 11.5935, Valid loss: 1.7375\n"
          ]
        },
        {
          "output_type": "stream",
          "name": "stderr",
          "text": [
            "Epoch [128/5000]: 100%|██████████| 38/38 [00:00<00:00, 122.39it/s, loss=8.47]\n"
          ]
        },
        {
          "output_type": "stream",
          "name": "stdout",
          "text": [
            "Epoch [128/5000]: Train loss: 12.0587, Valid loss: 0.9816\n"
          ]
        },
        {
          "output_type": "stream",
          "name": "stderr",
          "text": [
            "Epoch [129/5000]: 100%|██████████| 38/38 [00:00<00:00, 114.24it/s, loss=12.3]\n"
          ]
        },
        {
          "output_type": "stream",
          "name": "stdout",
          "text": [
            "Epoch [129/5000]: Train loss: 12.8539, Valid loss: 1.6686\n"
          ]
        },
        {
          "output_type": "stream",
          "name": "stderr",
          "text": [
            "Epoch [130/5000]: 100%|██████████| 38/38 [00:00<00:00, 124.29it/s, loss=12.3]\n"
          ]
        },
        {
          "output_type": "stream",
          "name": "stdout",
          "text": [
            "Epoch [130/5000]: Train loss: 12.5542, Valid loss: 3.3115\n"
          ]
        },
        {
          "output_type": "stream",
          "name": "stderr",
          "text": [
            "Epoch [131/5000]: 100%|██████████| 38/38 [00:00<00:00, 55.40it/s, loss=12.9]\n"
          ]
        },
        {
          "output_type": "stream",
          "name": "stdout",
          "text": [
            "Epoch [131/5000]: Train loss: 11.0239, Valid loss: 1.4271\n"
          ]
        },
        {
          "output_type": "stream",
          "name": "stderr",
          "text": [
            "Epoch [132/5000]: 100%|██████████| 38/38 [00:00<00:00, 58.50it/s, loss=27]\n"
          ]
        },
        {
          "output_type": "stream",
          "name": "stdout",
          "text": [
            "Epoch [132/5000]: Train loss: 11.6042, Valid loss: 3.9767\n"
          ]
        },
        {
          "output_type": "stream",
          "name": "stderr",
          "text": [
            "Epoch [133/5000]: 100%|██████████| 38/38 [00:00<00:00, 103.75it/s, loss=11.7]\n"
          ]
        },
        {
          "output_type": "stream",
          "name": "stdout",
          "text": [
            "Epoch [133/5000]: Train loss: 11.6310, Valid loss: 1.1487\n"
          ]
        },
        {
          "output_type": "stream",
          "name": "stderr",
          "text": [
            "Epoch [134/5000]: 100%|██████████| 38/38 [00:00<00:00, 40.30it/s, loss=10.1]\n"
          ]
        },
        {
          "output_type": "stream",
          "name": "stdout",
          "text": [
            "Epoch [134/5000]: Train loss: 10.8830, Valid loss: 1.8143\n"
          ]
        },
        {
          "output_type": "stream",
          "name": "stderr",
          "text": [
            "Epoch [135/5000]: 100%|██████████| 38/38 [00:00<00:00, 117.72it/s, loss=10.4]\n"
          ]
        },
        {
          "output_type": "stream",
          "name": "stdout",
          "text": [
            "Epoch [135/5000]: Train loss: 11.5702, Valid loss: 2.0051\n"
          ]
        },
        {
          "output_type": "stream",
          "name": "stderr",
          "text": [
            "Epoch [136/5000]: 100%|██████████| 38/38 [00:00<00:00, 122.53it/s, loss=13.6]\n"
          ]
        },
        {
          "output_type": "stream",
          "name": "stdout",
          "text": [
            "Epoch [136/5000]: Train loss: 11.3234, Valid loss: 1.7727\n"
          ]
        },
        {
          "output_type": "stream",
          "name": "stderr",
          "text": [
            "Epoch [137/5000]: 100%|██████████| 38/38 [00:00<00:00, 132.28it/s, loss=18.2]\n"
          ]
        },
        {
          "output_type": "stream",
          "name": "stdout",
          "text": [
            "Epoch [137/5000]: Train loss: 11.5184, Valid loss: 1.0120\n"
          ]
        },
        {
          "output_type": "stream",
          "name": "stderr",
          "text": [
            "Epoch [138/5000]: 100%|██████████| 38/38 [00:00<00:00, 123.31it/s, loss=15.9]\n"
          ]
        },
        {
          "output_type": "stream",
          "name": "stdout",
          "text": [
            "Epoch [138/5000]: Train loss: 10.7704, Valid loss: 1.8232\n"
          ]
        },
        {
          "output_type": "stream",
          "name": "stderr",
          "text": [
            "Epoch [139/5000]: 100%|██████████| 38/38 [00:00<00:00, 132.12it/s, loss=12.1]\n"
          ]
        },
        {
          "output_type": "stream",
          "name": "stdout",
          "text": [
            "Epoch [139/5000]: Train loss: 11.0317, Valid loss: 1.7249\n"
          ]
        },
        {
          "output_type": "stream",
          "name": "stderr",
          "text": [
            "Epoch [140/5000]: 100%|██████████| 38/38 [00:00<00:00, 131.22it/s, loss=12.9]\n"
          ]
        },
        {
          "output_type": "stream",
          "name": "stdout",
          "text": [
            "Epoch [140/5000]: Train loss: 11.2528, Valid loss: 1.1781\n"
          ]
        },
        {
          "output_type": "stream",
          "name": "stderr",
          "text": [
            "Epoch [141/5000]: 100%|██████████| 38/38 [00:00<00:00, 124.46it/s, loss=6.06]\n"
          ]
        },
        {
          "output_type": "stream",
          "name": "stdout",
          "text": [
            "Epoch [141/5000]: Train loss: 10.9233, Valid loss: 1.0803\n"
          ]
        },
        {
          "output_type": "stream",
          "name": "stderr",
          "text": [
            "Epoch [142/5000]: 100%|██████████| 38/38 [00:00<00:00, 133.81it/s, loss=7.16]\n"
          ]
        },
        {
          "output_type": "stream",
          "name": "stdout",
          "text": [
            "Epoch [142/5000]: Train loss: 10.9033, Valid loss: 1.9768\n"
          ]
        },
        {
          "output_type": "stream",
          "name": "stderr",
          "text": [
            "Epoch [143/5000]: 100%|██████████| 38/38 [00:00<00:00, 113.55it/s, loss=14.3]\n"
          ]
        },
        {
          "output_type": "stream",
          "name": "stdout",
          "text": [
            "Epoch [143/5000]: Train loss: 10.2043, Valid loss: 1.1792\n"
          ]
        },
        {
          "output_type": "stream",
          "name": "stderr",
          "text": [
            "Epoch [144/5000]: 100%|██████████| 38/38 [00:00<00:00, 127.23it/s, loss=9.65]\n"
          ]
        },
        {
          "output_type": "stream",
          "name": "stdout",
          "text": [
            "Epoch [144/5000]: Train loss: 10.6113, Valid loss: 1.5354\n"
          ]
        },
        {
          "output_type": "stream",
          "name": "stderr",
          "text": [
            "Epoch [145/5000]: 100%|██████████| 38/38 [00:00<00:00, 133.30it/s, loss=11]\n"
          ]
        },
        {
          "output_type": "stream",
          "name": "stdout",
          "text": [
            "Epoch [145/5000]: Train loss: 10.4174, Valid loss: 2.4203\n"
          ]
        },
        {
          "output_type": "stream",
          "name": "stderr",
          "text": [
            "Epoch [146/5000]: 100%|██████████| 38/38 [00:00<00:00, 137.89it/s, loss=16.1]\n"
          ]
        },
        {
          "output_type": "stream",
          "name": "stdout",
          "text": [
            "Epoch [146/5000]: Train loss: 10.5337, Valid loss: 1.1309\n"
          ]
        },
        {
          "output_type": "stream",
          "name": "stderr",
          "text": [
            "Epoch [147/5000]: 100%|██████████| 38/38 [00:00<00:00, 130.56it/s, loss=7.49]\n"
          ]
        },
        {
          "output_type": "stream",
          "name": "stdout",
          "text": [
            "Epoch [147/5000]: Train loss: 11.2531, Valid loss: 1.0947\n"
          ]
        },
        {
          "output_type": "stream",
          "name": "stderr",
          "text": [
            "Epoch [148/5000]: 100%|██████████| 38/38 [00:00<00:00, 114.19it/s, loss=5.18]\n"
          ]
        },
        {
          "output_type": "stream",
          "name": "stdout",
          "text": [
            "Epoch [148/5000]: Train loss: 9.8691, Valid loss: 0.9222\n",
            "Saving model with loss 0.922...\n"
          ]
        },
        {
          "output_type": "stream",
          "name": "stderr",
          "text": [
            "Epoch [149/5000]: 100%|██████████| 38/38 [00:00<00:00, 116.43it/s, loss=7.11]\n"
          ]
        },
        {
          "output_type": "stream",
          "name": "stdout",
          "text": [
            "Epoch [149/5000]: Train loss: 10.3380, Valid loss: 1.3205\n"
          ]
        },
        {
          "output_type": "stream",
          "name": "stderr",
          "text": [
            "Epoch [150/5000]: 100%|██████████| 38/38 [00:00<00:00, 132.78it/s, loss=7.08]\n"
          ]
        },
        {
          "output_type": "stream",
          "name": "stdout",
          "text": [
            "Epoch [150/5000]: Train loss: 10.2352, Valid loss: 1.5993\n"
          ]
        },
        {
          "output_type": "stream",
          "name": "stderr",
          "text": [
            "Epoch [151/5000]: 100%|██████████| 38/38 [00:00<00:00, 142.53it/s, loss=8.27]\n"
          ]
        },
        {
          "output_type": "stream",
          "name": "stdout",
          "text": [
            "Epoch [151/5000]: Train loss: 9.6548, Valid loss: 1.2851\n"
          ]
        },
        {
          "output_type": "stream",
          "name": "stderr",
          "text": [
            "Epoch [152/5000]: 100%|██████████| 38/38 [00:00<00:00, 143.95it/s, loss=6.13]\n"
          ]
        },
        {
          "output_type": "stream",
          "name": "stdout",
          "text": [
            "Epoch [152/5000]: Train loss: 9.4420, Valid loss: 1.0301\n"
          ]
        },
        {
          "output_type": "stream",
          "name": "stderr",
          "text": [
            "Epoch [153/5000]: 100%|██████████| 38/38 [00:00<00:00, 138.16it/s, loss=4.8]\n"
          ]
        },
        {
          "output_type": "stream",
          "name": "stdout",
          "text": [
            "Epoch [153/5000]: Train loss: 9.3817, Valid loss: 0.9406\n"
          ]
        },
        {
          "output_type": "stream",
          "name": "stderr",
          "text": [
            "Epoch [154/5000]: 100%|██████████| 38/38 [00:00<00:00, 142.76it/s, loss=8.13]\n"
          ]
        },
        {
          "output_type": "stream",
          "name": "stdout",
          "text": [
            "Epoch [154/5000]: Train loss: 10.1140, Valid loss: 1.2018\n"
          ]
        },
        {
          "output_type": "stream",
          "name": "stderr",
          "text": [
            "Epoch [155/5000]: 100%|██████████| 38/38 [00:00<00:00, 130.52it/s, loss=10]\n"
          ]
        },
        {
          "output_type": "stream",
          "name": "stdout",
          "text": [
            "Epoch [155/5000]: Train loss: 11.0519, Valid loss: 1.0438\n"
          ]
        },
        {
          "output_type": "stream",
          "name": "stderr",
          "text": [
            "Epoch [156/5000]: 100%|██████████| 38/38 [00:00<00:00, 94.90it/s, loss=9.41]\n"
          ]
        },
        {
          "output_type": "stream",
          "name": "stdout",
          "text": [
            "Epoch [156/5000]: Train loss: 9.6529, Valid loss: 0.9908\n"
          ]
        },
        {
          "output_type": "stream",
          "name": "stderr",
          "text": [
            "Epoch [157/5000]: 100%|██████████| 38/38 [00:00<00:00, 83.60it/s, loss=12]\n"
          ]
        },
        {
          "output_type": "stream",
          "name": "stdout",
          "text": [
            "Epoch [157/5000]: Train loss: 10.5965, Valid loss: 1.2200\n"
          ]
        },
        {
          "output_type": "stream",
          "name": "stderr",
          "text": [
            "Epoch [158/5000]: 100%|██████████| 38/38 [00:00<00:00, 78.62it/s, loss=5]\n"
          ]
        },
        {
          "output_type": "stream",
          "name": "stdout",
          "text": [
            "Epoch [158/5000]: Train loss: 8.9395, Valid loss: 1.2940\n"
          ]
        },
        {
          "output_type": "stream",
          "name": "stderr",
          "text": [
            "Epoch [159/5000]: 100%|██████████| 38/38 [00:00<00:00, 83.33it/s, loss=8.41]\n"
          ]
        },
        {
          "output_type": "stream",
          "name": "stdout",
          "text": [
            "Epoch [159/5000]: Train loss: 9.6478, Valid loss: 1.4268\n"
          ]
        },
        {
          "output_type": "stream",
          "name": "stderr",
          "text": [
            "Epoch [160/5000]: 100%|██████████| 38/38 [00:00<00:00, 68.51it/s, loss=15.8]\n"
          ]
        },
        {
          "output_type": "stream",
          "name": "stdout",
          "text": [
            "Epoch [160/5000]: Train loss: 10.2333, Valid loss: 2.7221\n"
          ]
        },
        {
          "output_type": "stream",
          "name": "stderr",
          "text": [
            "Epoch [161/5000]: 100%|██████████| 38/38 [00:00<00:00, 74.91it/s, loss=5.45]\n"
          ]
        },
        {
          "output_type": "stream",
          "name": "stdout",
          "text": [
            "Epoch [161/5000]: Train loss: 9.4960, Valid loss: 1.5489\n"
          ]
        },
        {
          "output_type": "stream",
          "name": "stderr",
          "text": [
            "Epoch [162/5000]: 100%|██████████| 38/38 [00:00<00:00, 87.04it/s, loss=5.69]\n"
          ]
        },
        {
          "output_type": "stream",
          "name": "stdout",
          "text": [
            "Epoch [162/5000]: Train loss: 10.4145, Valid loss: 2.5072\n"
          ]
        },
        {
          "output_type": "stream",
          "name": "stderr",
          "text": [
            "Epoch [163/5000]: 100%|██████████| 38/38 [00:00<00:00, 75.01it/s, loss=11.3]\n"
          ]
        },
        {
          "output_type": "stream",
          "name": "stdout",
          "text": [
            "Epoch [163/5000]: Train loss: 10.6246, Valid loss: 2.2765\n"
          ]
        },
        {
          "output_type": "stream",
          "name": "stderr",
          "text": [
            "Epoch [164/5000]: 100%|██████████| 38/38 [00:00<00:00, 79.20it/s, loss=13.7]\n"
          ]
        },
        {
          "output_type": "stream",
          "name": "stdout",
          "text": [
            "Epoch [164/5000]: Train loss: 9.9290, Valid loss: 1.0394\n"
          ]
        },
        {
          "output_type": "stream",
          "name": "stderr",
          "text": [
            "Epoch [165/5000]: 100%|██████████| 38/38 [00:00<00:00, 73.24it/s, loss=10]\n"
          ]
        },
        {
          "output_type": "stream",
          "name": "stdout",
          "text": [
            "Epoch [165/5000]: Train loss: 10.0872, Valid loss: 1.0375\n"
          ]
        },
        {
          "output_type": "stream",
          "name": "stderr",
          "text": [
            "Epoch [166/5000]: 100%|██████████| 38/38 [00:00<00:00, 57.58it/s, loss=7.52]\n"
          ]
        },
        {
          "output_type": "stream",
          "name": "stdout",
          "text": [
            "Epoch [166/5000]: Train loss: 9.3184, Valid loss: 1.4981\n"
          ]
        },
        {
          "output_type": "stream",
          "name": "stderr",
          "text": [
            "Epoch [167/5000]: 100%|██████████| 38/38 [00:00<00:00, 58.19it/s, loss=7.1]\n"
          ]
        },
        {
          "output_type": "stream",
          "name": "stdout",
          "text": [
            "Epoch [167/5000]: Train loss: 9.6418, Valid loss: 0.9763\n"
          ]
        },
        {
          "output_type": "stream",
          "name": "stderr",
          "text": [
            "Epoch [168/5000]: 100%|██████████| 38/38 [00:00<00:00, 60.42it/s, loss=16.5]\n"
          ]
        },
        {
          "output_type": "stream",
          "name": "stdout",
          "text": [
            "Epoch [168/5000]: Train loss: 8.9126, Valid loss: 1.2055\n"
          ]
        },
        {
          "output_type": "stream",
          "name": "stderr",
          "text": [
            "Epoch [169/5000]: 100%|██████████| 38/38 [00:00<00:00, 72.93it/s, loss=7.96]\n"
          ]
        },
        {
          "output_type": "stream",
          "name": "stdout",
          "text": [
            "Epoch [169/5000]: Train loss: 9.7022, Valid loss: 1.4723\n"
          ]
        },
        {
          "output_type": "stream",
          "name": "stderr",
          "text": [
            "Epoch [170/5000]: 100%|██████████| 38/38 [00:00<00:00, 67.39it/s, loss=8.16]\n"
          ]
        },
        {
          "output_type": "stream",
          "name": "stdout",
          "text": [
            "Epoch [170/5000]: Train loss: 9.1404, Valid loss: 1.1308\n"
          ]
        },
        {
          "output_type": "stream",
          "name": "stderr",
          "text": [
            "Epoch [171/5000]: 100%|██████████| 38/38 [00:00<00:00, 72.13it/s, loss=9.84]\n"
          ]
        },
        {
          "output_type": "stream",
          "name": "stdout",
          "text": [
            "Epoch [171/5000]: Train loss: 9.0193, Valid loss: 0.9451\n"
          ]
        },
        {
          "output_type": "stream",
          "name": "stderr",
          "text": [
            "Epoch [172/5000]: 100%|██████████| 38/38 [00:00<00:00, 77.34it/s, loss=8.23]\n"
          ]
        },
        {
          "output_type": "stream",
          "name": "stdout",
          "text": [
            "Epoch [172/5000]: Train loss: 8.7175, Valid loss: 1.7626\n"
          ]
        },
        {
          "output_type": "stream",
          "name": "stderr",
          "text": [
            "Epoch [173/5000]: 100%|██████████| 38/38 [00:00<00:00, 67.97it/s, loss=7.68]\n"
          ]
        },
        {
          "output_type": "stream",
          "name": "stdout",
          "text": [
            "Epoch [173/5000]: Train loss: 9.4905, Valid loss: 1.0976\n"
          ]
        },
        {
          "output_type": "stream",
          "name": "stderr",
          "text": [
            "Epoch [174/5000]: 100%|██████████| 38/38 [00:00<00:00, 77.80it/s, loss=16.3]\n"
          ]
        },
        {
          "output_type": "stream",
          "name": "stdout",
          "text": [
            "Epoch [174/5000]: Train loss: 9.4480, Valid loss: 0.9823\n"
          ]
        },
        {
          "output_type": "stream",
          "name": "stderr",
          "text": [
            "Epoch [175/5000]: 100%|██████████| 38/38 [00:00<00:00, 69.01it/s, loss=46.9]\n"
          ]
        },
        {
          "output_type": "stream",
          "name": "stdout",
          "text": [
            "Epoch [175/5000]: Train loss: 9.7196, Valid loss: 2.3031\n"
          ]
        },
        {
          "output_type": "stream",
          "name": "stderr",
          "text": [
            "Epoch [176/5000]: 100%|██████████| 38/38 [00:00<00:00, 71.01it/s, loss=9.39]\n"
          ]
        },
        {
          "output_type": "stream",
          "name": "stdout",
          "text": [
            "Epoch [176/5000]: Train loss: 8.8761, Valid loss: 1.0377\n"
          ]
        },
        {
          "output_type": "stream",
          "name": "stderr",
          "text": [
            "Epoch [177/5000]: 100%|██████████| 38/38 [00:00<00:00, 58.45it/s, loss=11.1]\n"
          ]
        },
        {
          "output_type": "stream",
          "name": "stdout",
          "text": [
            "Epoch [177/5000]: Train loss: 8.7300, Valid loss: 1.1606\n"
          ]
        },
        {
          "output_type": "stream",
          "name": "stderr",
          "text": [
            "Epoch [178/5000]: 100%|██████████| 38/38 [00:00<00:00, 63.31it/s, loss=5.57]\n"
          ]
        },
        {
          "output_type": "stream",
          "name": "stdout",
          "text": [
            "Epoch [178/5000]: Train loss: 9.4422, Valid loss: 1.2369\n"
          ]
        },
        {
          "output_type": "stream",
          "name": "stderr",
          "text": [
            "Epoch [179/5000]: 100%|██████████| 38/38 [00:00<00:00, 60.37it/s, loss=8.1]\n"
          ]
        },
        {
          "output_type": "stream",
          "name": "stdout",
          "text": [
            "Epoch [179/5000]: Train loss: 8.6845, Valid loss: 0.9807\n"
          ]
        },
        {
          "output_type": "stream",
          "name": "stderr",
          "text": [
            "Epoch [180/5000]: 100%|██████████| 38/38 [00:00<00:00, 63.25it/s, loss=11.5]\n"
          ]
        },
        {
          "output_type": "stream",
          "name": "stdout",
          "text": [
            "Epoch [180/5000]: Train loss: 10.1852, Valid loss: 1.4474\n"
          ]
        },
        {
          "output_type": "stream",
          "name": "stderr",
          "text": [
            "Epoch [181/5000]: 100%|██████████| 38/38 [00:00<00:00, 79.08it/s, loss=4.26]\n"
          ]
        },
        {
          "output_type": "stream",
          "name": "stdout",
          "text": [
            "Epoch [181/5000]: Train loss: 8.9890, Valid loss: 0.9407\n"
          ]
        },
        {
          "output_type": "stream",
          "name": "stderr",
          "text": [
            "Epoch [182/5000]: 100%|██████████| 38/38 [00:00<00:00, 73.10it/s, loss=25]\n"
          ]
        },
        {
          "output_type": "stream",
          "name": "stdout",
          "text": [
            "Epoch [182/5000]: Train loss: 9.3516, Valid loss: 1.1472\n"
          ]
        },
        {
          "output_type": "stream",
          "name": "stderr",
          "text": [
            "Epoch [183/5000]: 100%|██████████| 38/38 [00:00<00:00, 64.20it/s, loss=7.79]\n"
          ]
        },
        {
          "output_type": "stream",
          "name": "stdout",
          "text": [
            "Epoch [183/5000]: Train loss: 8.8151, Valid loss: 1.6179\n"
          ]
        },
        {
          "output_type": "stream",
          "name": "stderr",
          "text": [
            "Epoch [184/5000]: 100%|██████████| 38/38 [00:00<00:00, 76.97it/s, loss=7.64]\n"
          ]
        },
        {
          "output_type": "stream",
          "name": "stdout",
          "text": [
            "Epoch [184/5000]: Train loss: 9.1800, Valid loss: 0.8884\n",
            "Saving model with loss 0.888...\n"
          ]
        },
        {
          "output_type": "stream",
          "name": "stderr",
          "text": [
            "Epoch [185/5000]: 100%|██████████| 38/38 [00:00<00:00, 66.62it/s, loss=9.65]\n"
          ]
        },
        {
          "output_type": "stream",
          "name": "stdout",
          "text": [
            "Epoch [185/5000]: Train loss: 9.5052, Valid loss: 1.0133\n"
          ]
        },
        {
          "output_type": "stream",
          "name": "stderr",
          "text": [
            "Epoch [186/5000]: 100%|██████████| 38/38 [00:00<00:00, 62.85it/s, loss=11.2]\n"
          ]
        },
        {
          "output_type": "stream",
          "name": "stdout",
          "text": [
            "Epoch [186/5000]: Train loss: 9.3472, Valid loss: 1.0786\n"
          ]
        },
        {
          "output_type": "stream",
          "name": "stderr",
          "text": [
            "Epoch [187/5000]: 100%|██████████| 38/38 [00:00<00:00, 74.28it/s, loss=7.53]\n"
          ]
        },
        {
          "output_type": "stream",
          "name": "stdout",
          "text": [
            "Epoch [187/5000]: Train loss: 10.0514, Valid loss: 0.9228\n"
          ]
        },
        {
          "output_type": "stream",
          "name": "stderr",
          "text": [
            "Epoch [188/5000]: 100%|██████████| 38/38 [00:00<00:00, 42.41it/s, loss=10.9]\n"
          ]
        },
        {
          "output_type": "stream",
          "name": "stdout",
          "text": [
            "Epoch [188/5000]: Train loss: 9.1615, Valid loss: 1.2242\n"
          ]
        },
        {
          "output_type": "stream",
          "name": "stderr",
          "text": [
            "Epoch [189/5000]: 100%|██████████| 38/38 [00:00<00:00, 81.48it/s, loss=21.8]\n"
          ]
        },
        {
          "output_type": "stream",
          "name": "stdout",
          "text": [
            "Epoch [189/5000]: Train loss: 8.5027, Valid loss: 1.1034\n"
          ]
        },
        {
          "output_type": "stream",
          "name": "stderr",
          "text": [
            "Epoch [190/5000]: 100%|██████████| 38/38 [00:00<00:00, 68.13it/s, loss=12.8]\n"
          ]
        },
        {
          "output_type": "stream",
          "name": "stdout",
          "text": [
            "Epoch [190/5000]: Train loss: 8.4157, Valid loss: 1.4872\n"
          ]
        },
        {
          "output_type": "stream",
          "name": "stderr",
          "text": [
            "Epoch [191/5000]: 100%|██████████| 38/38 [00:00<00:00, 68.39it/s, loss=8.35]\n"
          ]
        },
        {
          "output_type": "stream",
          "name": "stdout",
          "text": [
            "Epoch [191/5000]: Train loss: 9.5269, Valid loss: 1.1188\n"
          ]
        },
        {
          "output_type": "stream",
          "name": "stderr",
          "text": [
            "Epoch [192/5000]: 100%|██████████| 38/38 [00:00<00:00, 67.52it/s, loss=6.22]\n"
          ]
        },
        {
          "output_type": "stream",
          "name": "stdout",
          "text": [
            "Epoch [192/5000]: Train loss: 8.1005, Valid loss: 1.1707\n"
          ]
        },
        {
          "output_type": "stream",
          "name": "stderr",
          "text": [
            "Epoch [193/5000]: 100%|██████████| 38/38 [00:00<00:00, 72.88it/s, loss=15.9]\n"
          ]
        },
        {
          "output_type": "stream",
          "name": "stdout",
          "text": [
            "Epoch [193/5000]: Train loss: 8.5552, Valid loss: 1.0389\n"
          ]
        },
        {
          "output_type": "stream",
          "name": "stderr",
          "text": [
            "Epoch [194/5000]: 100%|██████████| 38/38 [00:00<00:00, 85.53it/s, loss=8.94]\n"
          ]
        },
        {
          "output_type": "stream",
          "name": "stdout",
          "text": [
            "Epoch [194/5000]: Train loss: 8.8403, Valid loss: 1.5501\n"
          ]
        },
        {
          "output_type": "stream",
          "name": "stderr",
          "text": [
            "Epoch [195/5000]: 100%|██████████| 38/38 [00:00<00:00, 70.96it/s, loss=7.93]\n"
          ]
        },
        {
          "output_type": "stream",
          "name": "stdout",
          "text": [
            "Epoch [195/5000]: Train loss: 8.3325, Valid loss: 0.8656\n",
            "Saving model with loss 0.866...\n"
          ]
        },
        {
          "output_type": "stream",
          "name": "stderr",
          "text": [
            "Epoch [196/5000]: 100%|██████████| 38/38 [00:00<00:00, 72.18it/s, loss=9.26]\n"
          ]
        },
        {
          "output_type": "stream",
          "name": "stdout",
          "text": [
            "Epoch [196/5000]: Train loss: 8.2416, Valid loss: 1.2766\n"
          ]
        },
        {
          "output_type": "stream",
          "name": "stderr",
          "text": [
            "Epoch [197/5000]: 100%|██████████| 38/38 [00:00<00:00, 61.61it/s, loss=8.28]\n"
          ]
        },
        {
          "output_type": "stream",
          "name": "stdout",
          "text": [
            "Epoch [197/5000]: Train loss: 8.4159, Valid loss: 0.9504\n"
          ]
        },
        {
          "output_type": "stream",
          "name": "stderr",
          "text": [
            "Epoch [198/5000]: 100%|██████████| 38/38 [00:00<00:00, 73.94it/s, loss=5.23]\n"
          ]
        },
        {
          "output_type": "stream",
          "name": "stdout",
          "text": [
            "Epoch [198/5000]: Train loss: 8.6669, Valid loss: 0.9883\n"
          ]
        },
        {
          "output_type": "stream",
          "name": "stderr",
          "text": [
            "\r  0%|          | 0/38 [00:00<?, ?it/s]"
          ]
        }
      ],
      "source": [
        "model = My_Model(input_dim=x_train.shape[1]).to(device) # put your model and data on the same computation device.\n",
        "trainer(train_loader, valid_loader, model, config, device)"
      ]
    },
    {
      "cell_type": "markdown",
      "metadata": {
        "id": "Ik09KPqU-di-"
      },
      "source": [
        "# Plot learning curves with `tensorboard` (optional)\n",
        "\n",
        "`tensorboard` is a tool that allows you to visualize your training progress.\n",
        "\n",
        "If this block does not display your learning curve, please wait for few minutes, and re-run this block. It might take some time to load your logging information. "
      ]
    },
    {
      "cell_type": "code",
      "execution_count": null,
      "metadata": {
        "id": "loA4nKmLGQ-n"
      },
      "outputs": [],
      "source": [
        "%reload_ext tensorboard\n",
        "%tensorboard --logdir=./runs/"
      ]
    },
    {
      "cell_type": "markdown",
      "metadata": {
        "id": "yhAHGqC9-woK"
      },
      "source": [
        "# Testing\n",
        "The predictions of your model on testing set will be stored at `pred.csv`."
      ]
    },
    {
      "cell_type": "code",
      "execution_count": null,
      "metadata": {
        "id": "Q5eVdpbvAlAe"
      },
      "outputs": [],
      "source": [
        "def save_pred(preds, file):\n",
        "    ''' Save predictions to specified file '''\n",
        "    with open(file, 'w') as fp:\n",
        "        writer = csv.writer(fp)\n",
        "        writer.writerow(['id', 'tested_positive'])\n",
        "        for i, p in enumerate(preds):\n",
        "            writer.writerow([i, p])\n",
        "\n",
        "model = My_Model(input_dim=x_train.shape[1]).to(device)\n",
        "model.load_state_dict(torch.load(config['save_path']))\n",
        "preds = predict(test_loader, model, device) \n",
        "save_pred(preds, 'pred.csv')"
      ]
    },
    {
      "cell_type": "markdown",
      "metadata": {
        "id": "T_N-wBvVahc7"
      },
      "source": [
        "# Download\n",
        "\n",
        "Run this block to download the `pred.csv` automatically."
      ]
    },
    {
      "cell_type": "code",
      "execution_count": null,
      "metadata": {
        "id": "PmMnwrHeavJv"
      },
      "outputs": [],
      "source": [
        "from google.colab import files\n",
        "files.download('pred.csv')"
      ]
    },
    {
      "cell_type": "markdown",
      "metadata": {
        "id": "IJ_k5rY0GvSV"
      },
      "source": [
        "# Reference\n",
        "This notebook uses code written by Heng-Jui Chang @ NTUEE (https://github.com/ga642381/ML2021-Spring/blob/main/HW01/HW01.ipynb)"
      ]
    }
  ],
  "metadata": {
    "accelerator": "GPU",
    "colab": {
      "provenance": []
    },
    "gpuClass": "standard",
    "kernelspec": {
      "display_name": "Python 3",
      "name": "python3"
    },
    "language_info": {
      "name": "python"
    }
  },
  "nbformat": 4,
  "nbformat_minor": 0
}